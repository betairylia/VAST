{
  "nbformat": 4,
  "nbformat_minor": 0,
  "metadata": {
    "colab": {
      "name": "VAST-data preparation",
      "provenance": [],
      "collapsed_sections": [],
      "machine_shape": "hm",
      "authorship_tag": "ABX9TyPScUtf2WLhWIRPNmO+O+1x",
      "include_colab_link": true
    },
    "kernelspec": {
      "name": "python3",
      "display_name": "Python 3"
    },
    "accelerator": "GPU"
  },
  "cells": [
    {
      "cell_type": "markdown",
      "metadata": {
        "id": "view-in-github",
        "colab_type": "text"
      },
      "source": [
        "<a href=\"https://colab.research.google.com/github/pren1/VAST/blob/master/VAST_data_preparation.ipynb\" target=\"_parent\"><img src=\"https://colab.research.google.com/assets/colab-badge.svg\" alt=\"Open In Colab\"/></a>"
      ]
    },
    {
      "cell_type": "markdown",
      "metadata": {
        "id": "HsKw_qF8HS86",
        "colab_type": "text"
      },
      "source": [
        "# Code dependency"
      ]
    },
    {
      "cell_type": "code",
      "metadata": {
        "id": "CHL94potHSNP",
        "colab_type": "code",
        "outputId": "c54148b6-b254-4e06-b338-b3b43e31fdc1",
        "colab": {
          "base_uri": "https://localhost:8080/",
          "height": 142
        }
      },
      "source": [
        "!rm -rf VAST/\n",
        "!git clone https://github.com/pren1/VAST.git"
      ],
      "execution_count": 1,
      "outputs": [
        {
          "output_type": "stream",
          "text": [
            "Cloning into 'VAST'...\n",
            "remote: Enumerating objects: 67, done.\u001b[K\n",
            "remote: Counting objects: 100% (67/67), done.\u001b[K\n",
            "remote: Compressing objects: 100% (44/44), done.\u001b[K\n",
            "remote: Total 67 (delta 26), reused 46 (delta 15), pack-reused 0\u001b[K\n",
            "Unpacking objects: 100% (67/67), done.\n"
          ],
          "name": "stdout"
        }
      ]
    },
    {
      "cell_type": "code",
      "metadata": {
        "id": "jgy-UetoHiCd",
        "colab_type": "code",
        "colab": {}
      },
      "source": [
        "from VAST.util import *"
      ],
      "execution_count": 0,
      "outputs": []
    },
    {
      "cell_type": "markdown",
      "metadata": {
        "id": "739QZSCbTxfI",
        "colab_type": "text"
      },
      "source": [
        "# Data download"
      ]
    },
    {
      "cell_type": "code",
      "metadata": {
        "id": "ae0eSxu-TvoC",
        "colab_type": "code",
        "colab": {}
      },
      "source": [
        "!rm -rf audio/\n",
        "!mkdir audio\n",
        "!cd audio/"
      ],
      "execution_count": 0,
      "outputs": []
    },
    {
      "cell_type": "code",
      "metadata": {
        "id": "p8lqHwwQU0Ce",
        "colab_type": "code",
        "outputId": "35d5af12-1a15-4acb-b3fc-3fec919f826e",
        "colab": {
          "base_uri": "https://localhost:8080/",
          "height": 55
        }
      },
      "source": [
        "!pip3 install --upgrade youtube-dl"
      ],
      "execution_count": 4,
      "outputs": [
        {
          "output_type": "stream",
          "text": [
            "Requirement already up-to-date: youtube-dl in /usr/local/lib/python3.6/dist-packages (2020.5.3)\n"
          ],
          "name": "stdout"
        }
      ]
    },
    {
      "cell_type": "code",
      "metadata": {
        "id": "mPjCdZGKYvyL",
        "colab_type": "code",
        "colab": {
          "base_uri": "https://localhost:8080/",
          "height": 1000
        },
        "outputId": "fa1de538-3eaf-4dc8-d4e8-d646c8bab8ef"
      },
      "source": [
        "name_dict = return_download_dict('VAST/file_name_dict.npy').tolist()\n",
        "for single_key in name_dict:\n",
        "  create_folders(f\"/content/audio/{single_key}/\")\n",
        "  file_list = name_dict[single_key]\n",
        "  for single_file in file_list:\n",
        "    print(single_file)\n",
        "    !youtube-dl --extract-audio -o \"/content/audio/{single_key}/%(title)s.%(ext)s\" $single_file"
      ],
      "execution_count": 5,
      "outputs": [
        {
          "output_type": "stream",
          "text": [
            "https://www.youtube.com/watch?v=D4bjfOkb9GM&list=PLKo9UD3uKyyFxwwUwt3EBf5_ehCNic5tx\n",
            "[youtube] D4bjfOkb9GM: Downloading webpage\n",
            "[download] Destination: /content/audio/宝鐘マリン/【晩酌雑談】３Dお披露目・しゃべフェス感想裏話など💘【ホロライブ_宝鐘マリン】.webm\n",
            "\u001b[K[download] 100% of 105.41MiB in 00:06\n",
            "[ffmpeg] Destination: /content/audio/宝鐘マリン/【晩酌雑談】３Dお披露目・しゃべフェス感想裏話など💘【ホロライブ_宝鐘マリン】.opus\n",
            "Deleting original file /content/audio/宝鐘マリン/【晩酌雑談】３Dお披露目・しゃべフェス感想裏話など💘【ホロライブ_宝鐘マリン】.webm (pass -k to keep)\n",
            "https://www.youtube.com/watch?v=b5jnwoRiYxg&list=PLKo9UD3uKyyFxwwUwt3EBf5_ehCNic5tx&index=2\n",
            "[youtube] b5jnwoRiYxg: Downloading webpage\n",
            "[download] Destination: /content/audio/宝鐘マリン/【雑談】ココ会長お泊りエピ🐉洞窟感想など👀_ましゅまろ💘【ホロライブ_宝鐘マリン】.webm\n",
            "\u001b[K[download] 100% of 116.51MiB in 00:06\n",
            "[ffmpeg] Destination: /content/audio/宝鐘マリン/【雑談】ココ会長お泊りエピ🐉洞窟感想など👀_ましゅまろ💘【ホロライブ_宝鐘マリン】.opus\n",
            "Deleting original file /content/audio/宝鐘マリン/【雑談】ココ会長お泊りエピ🐉洞窟感想など👀_ましゅまろ💘【ホロライブ_宝鐘マリン】.webm (pass -k to keep)\n",
            "https://www.youtube.com/watch?v=F1HQa5f3Sn0&list=PLKo9UD3uKyyFxwwUwt3EBf5_ehCNic5tx&index=3\n",
            "[youtube] F1HQa5f3Sn0: Downloading webpage\n",
            "[download] Destination: /content/audio/宝鐘マリン/【引っ越し前ラスト雑談】【ホロライブ_宝鐘マリン】.webm\n",
            "\u001b[K[download] 100% of 86.96MiB in 00:03\n",
            "[ffmpeg] Destination: /content/audio/宝鐘マリン/【引っ越し前ラスト雑談】【ホロライブ_宝鐘マリン】.opus\n",
            "Deleting original file /content/audio/宝鐘マリン/【引っ越し前ラスト雑談】【ホロライブ_宝鐘マリン】.webm (pass -k to keep)\n",
            "https://www.youtube.com/watch?v=Guc8SELiPPo&list=PLKo9UD3uKyyFxwwUwt3EBf5_ehCNic5tx&index=4\n",
            "[youtube] Guc8SELiPPo: Downloading webpage\n",
            "[download] Destination: /content/audio/宝鐘マリン/【⚠重大発表⚠】皆様に大切なお話があります。【ホロライブ_宝鐘マリン】.webm\n",
            "\u001b[K[download] 100% of 85.94MiB in 00:03\n",
            "[ffmpeg] Destination: /content/audio/宝鐘マリン/【⚠重大発表⚠】皆様に大切なお話があります。【ホロライブ_宝鐘マリン】.opus\n",
            "Deleting original file /content/audio/宝鐘マリン/【⚠重大発表⚠】皆様に大切なお話があります。【ホロライブ_宝鐘マリン】.webm (pass -k to keep)\n",
            "https://www.youtube.com/watch?v=bYONz5srmw8&list=PLKo9UD3uKyyFxwwUwt3EBf5_ehCNic5tx&index=5\n",
            "[youtube] bYONz5srmw8: Downloading webpage\n",
            "[download] Destination: /content/audio/宝鐘マリン/【雑談】正気を取り戻せ、マリン船長【ホロライブ_宝鐘マリン】.webm\n",
            "\u001b[K[download] 100% of 77.07MiB in 00:04\n",
            "[ffmpeg] Destination: /content/audio/宝鐘マリン/【雑談】正気を取り戻せ、マリン船長【ホロライブ_宝鐘マリン】.opus\n",
            "Deleting original file /content/audio/宝鐘マリン/【雑談】正気を取り戻せ、マリン船長【ホロライブ_宝鐘マリン】.webm (pass -k to keep)\n",
            "https://www.youtube.com/watch?v=J11Lcu6mxwI&list=PLKo9UD3uKyyFxwwUwt3EBf5_ehCNic5tx&index=6\n",
            "[youtube] J11Lcu6mxwI: Downloading webpage\n",
            "[download] Destination: /content/audio/宝鐘マリン/【#ホロライブ正月衣装】はじめての新衣装💘船長の女の部分をごらんください👼【ホロライブ_宝鐘マリン】.webm\n",
            "\u001b[K[download] 100% of 29.21MiB in 00:01\n",
            "[ffmpeg] Destination: /content/audio/宝鐘マリン/【#ホロライブ正月衣装】はじめての新衣装💘船長の女の部分をごらんください👼【ホロライブ_宝鐘マリン】.opus\n",
            "Deleting original file /content/audio/宝鐘マリン/【#ホロライブ正月衣装】はじめての新衣装💘船長の女の部分をごらんください👼【ホロライブ_宝鐘マリン】.webm (pass -k to keep)\n",
            "https://www.youtube.com/watch?v=2JKf7-kGYrs&list=PLKo9UD3uKyyFxwwUwt3EBf5_ehCNic5tx&index=7\n",
            "[youtube] 2JKf7-kGYrs: Downloading webpage\n",
            "[download] Destination: /content/audio/宝鐘マリン/【歌ってみた】20000人の一味のキミたちへ感謝を込めて【ホロライブ_宝鐘マリン】.webm\n",
            "\u001b[K[download] 100% of 51.27MiB in 00:03\n",
            "[ffmpeg] Destination: /content/audio/宝鐘マリン/【歌ってみた】20000人の一味のキミたちへ感謝を込めて【ホロライブ_宝鐘マリン】.opus\n",
            "Deleting original file /content/audio/宝鐘マリン/【歌ってみた】20000人の一味のキミたちへ感謝を込めて【ホロライブ_宝鐘マリン】.webm (pass -k to keep)\n",
            "https://www.youtube.com/watch?v=fg6qw-kiZyA&list=PLKo9UD3uKyyFxwwUwt3EBf5_ehCNic5tx&index=9\n",
            "[youtube] fg6qw-kiZyA: Downloading webpage\n",
            "[download] Destination: /content/audio/宝鐘マリン/【収益化記念】船長、酔ってもいいですか？【ホロライブ_宝鐘マリン】.webm\n",
            "\u001b[K[download] 100% of 58.38MiB in 00:01\n",
            "[ffmpeg] Destination: /content/audio/宝鐘マリン/【収益化記念】船長、酔ってもいいですか？【ホロライブ_宝鐘マリン】.opus\n",
            "Deleting original file /content/audio/宝鐘マリン/【収益化記念】船長、酔ってもいいですか？【ホロライブ_宝鐘マリン】.webm (pass -k to keep)\n",
            "https://www.youtube.com/watch?v=bJ_4ZLRXO1o&list=PLKo9UD3uKyyFxwwUwt3EBf5_ehCNic5tx&index=11\n",
            "[youtube] bJ_4ZLRXO1o: Downloading webpage\n",
            "[download] Destination: /content/audio/宝鐘マリン/【定例会議】トークのリハビリ👊👊【ホロライブ_宝鐘マリン】.webm\n",
            "\u001b[K[download] 100% of 79.70MiB in 00:04\n",
            "[ffmpeg] Destination: /content/audio/宝鐘マリン/【定例会議】トークのリハビリ👊👊【ホロライブ_宝鐘マリン】.opus\n",
            "Deleting original file /content/audio/宝鐘マリン/【定例会議】トークのリハビリ👊👊【ホロライブ_宝鐘マリン】.webm (pass -k to keep)\n",
            "https://www.youtube.com/watch?v=kyjbiZM82e4&list=PLKo9UD3uKyyFxwwUwt3EBf5_ehCNic5tx&index=12\n",
            "[youtube] kyjbiZM82e4: Downloading webpage\n",
            "[download] Destination: /content/audio/宝鐘マリン/【雑談】深夜にゆったりキミたちと語る💘【ホロライブ_宝鐘マリン】.webm\n",
            "\u001b[K[download] 100% of 85.45MiB in 00:06\n",
            "[ffmpeg] Destination: /content/audio/宝鐘マリン/【雑談】深夜にゆったりキミたちと語る💘【ホロライブ_宝鐘マリン】.opus\n",
            "Deleting original file /content/audio/宝鐘マリン/【雑談】深夜にゆったりキミたちと語る💘【ホロライブ_宝鐘マリン】.webm (pass -k to keep)\n",
            "https://www.youtube.com/watch?v=BMiHU--JKUk&list=PLKo9UD3uKyyFxwwUwt3EBf5_ehCNic5tx&index=13\n",
            "[youtube] BMiHU--JKUk: Downloading webpage\n",
            "[download] Destination: /content/audio/宝鐘マリン/【ましゅまろ雑談】キミたち～❣おしゃべりの時間よ～☺👊💘【ホロライブ_宝鐘マリン】.webm\n",
            "\u001b[K[download] 100% of 76.51MiB in 00:03\n",
            "[ffmpeg] Destination: /content/audio/宝鐘マリン/【ましゅまろ雑談】キミたち～❣おしゃべりの時間よ～☺👊💘【ホロライブ_宝鐘マリン】.opus\n",
            "Deleting original file /content/audio/宝鐘マリン/【ましゅまろ雑談】キミたち～❣おしゃべりの時間よ～☺👊💘【ホロライブ_宝鐘マリン】.webm (pass -k to keep)\n",
            "https://www.youtube.com/watch?v=GDgJJhhnJn0&list=PLKo9UD3uKyyFxwwUwt3EBf5_ehCNic5tx&index=14\n",
            "[youtube] GDgJJhhnJn0: Downloading webpage\n",
            "[download] Destination: /content/audio/宝鐘マリン/【胃腸炎雑談を添えて】💘ついに！？”アレ”のお知らせ・・・！！！！💘【ホロライブ_宝鐘マリン】.webm\n",
            "\u001b[K[download] 100% of 68.19MiB in 00:02\n",
            "[ffmpeg] Destination: /content/audio/宝鐘マリン/【胃腸炎雑談を添えて】💘ついに！？”アレ”のお知らせ・・・！！！！💘【ホロライブ_宝鐘マリン】.opus\n",
            "Deleting original file /content/audio/宝鐘マリン/【胃腸炎雑談を添えて】💘ついに！？”アレ”のお知らせ・・・！！！！💘【ホロライブ_宝鐘マリン】.webm (pass -k to keep)\n",
            "https://www.youtube.com/watch?v=v7pvEcaTleA&list=PLKo9UD3uKyyFxwwUwt3EBf5_ehCNic5tx&index=15\n",
            "[youtube] v7pvEcaTleA: Downloading webpage\n",
            "[download] Destination: /content/audio/宝鐘マリン/【晩酌雑談】💘よっぱっぱ女上司VSキミたちのましゅまろ💘【ホロライブ_宝鐘マリン】.webm\n",
            "\u001b[K[download] 100% of 70.71MiB in 00:06\n",
            "[ffmpeg] Destination: /content/audio/宝鐘マリン/【晩酌雑談】💘よっぱっぱ女上司VSキミたちのましゅまろ💘【ホロライブ_宝鐘マリン】.opus\n",
            "Deleting original file /content/audio/宝鐘マリン/【晩酌雑談】💘よっぱっぱ女上司VSキミたちのましゅまろ💘【ホロライブ_宝鐘マリン】.webm (pass -k to keep)\n",
            "https://www.youtube.com/watch?v=dj4kGVC7QF4&list=PLKo9UD3uKyyFxwwUwt3EBf5_ehCNic5tx&index=16\n",
            "[youtube] dj4kGVC7QF4: Downloading webpage\n",
            "[download] Destination: /content/audio/宝鐘マリン/【雑談】年末💘キミたちとおはなし😘【ホロライブ_宝鐘マリン】.webm\n",
            "\u001b[K[download] 100% of 83.26MiB in 00:07\n",
            "[ffmpeg] Destination: /content/audio/宝鐘マリン/【雑談】年末💘キミたちとおはなし😘【ホロライブ_宝鐘マリン】.opus\n",
            "Deleting original file /content/audio/宝鐘マリン/【雑談】年末💘キミたちとおはなし😘【ホロライブ_宝鐘マリン】.webm (pass -k to keep)\n",
            "https://www.youtube.com/watch?v=r5UA-UiKmLE&list=PLKo9UD3uKyyFxwwUwt3EBf5_ehCNic5tx&index=17\n",
            "[youtube] r5UA-UiKmLE: Downloading webpage\n",
            "[download] Destination: /content/audio/宝鐘マリン/【雑談】ちょっとひさしぶり💘お話ししましょう✨【ホロライブ_宝鐘マリン】.webm\n",
            "\u001b[K[download] 100% of 74.94MiB in 00:03\n",
            "[ffmpeg] Destination: /content/audio/宝鐘マリン/【雑談】ちょっとひさしぶり💘お話ししましょう✨【ホロライブ_宝鐘マリン】.opus\n",
            "Deleting original file /content/audio/宝鐘マリン/【雑談】ちょっとひさしぶり💘お話ししましょう✨【ホロライブ_宝鐘マリン】.webm (pass -k to keep)\n",
            "https://www.youtube.com/watch?v=pdp-g1VFZ4Y&list=PLKo9UD3uKyyFxwwUwt3EBf5_ehCNic5tx&index=20\n",
            "[youtube] pdp-g1VFZ4Y: Downloading webpage\n",
            "[download] Destination: /content/audio/宝鐘マリン/【晩酌雑談】💘キミたちの人生の悩みを解決する女上司。💘【ホロライブ_宝鐘マリン】.webm\n",
            "\u001b[K[download] 100% of 80.84MiB in 00:06\n",
            "[ffmpeg] Destination: /content/audio/宝鐘マリン/【晩酌雑談】💘キミたちの人生の悩みを解決する女上司。💘【ホロライブ_宝鐘マリン】.opus\n",
            "Deleting original file /content/audio/宝鐘マリン/【晩酌雑談】💘キミたちの人生の悩みを解決する女上司。💘【ホロライブ_宝鐘マリン】.webm (pass -k to keep)\n",
            "https://www.youtube.com/watch?v=4nBXTURXE_0&list=PLKo9UD3uKyyFxwwUwt3EBf5_ehCNic5tx&index=21\n",
            "[youtube] 4nBXTURXE_0: Downloading webpage\n",
            "[download] Destination: /content/audio/宝鐘マリン/【クリスマス企画告知+雑談】三期生リスナー参加企画決定💘そして病み上がりの雑談☠【ホロライブ_宝鐘マリン】.webm\n",
            "\u001b[K[download] 100% of 73.24MiB in 00:07\n",
            "[ffmpeg] Destination: /content/audio/宝鐘マリン/【クリスマス企画告知+雑談】三期生リスナー参加企画決定💘そして病み上がりの雑談☠【ホロライブ_宝鐘マリン】.opus\n",
            "Deleting original file /content/audio/宝鐘マリン/【クリスマス企画告知+雑談】三期生リスナー参加企画決定💘そして病み上がりの雑談☠【ホロライブ_宝鐘マリン】.webm (pass -k to keep)\n",
            "https://www.youtube.com/watch?v=kCcZt5ZRh90&list=PL7LdRPp7xCkNY6kQ3xpadTBVcQH78a26S\n",
            "[youtube] kCcZt5ZRh90: Downloading webpage\n",
            "[download] Destination: /content/audio/白上フブキ/【朝活】おはコン🌽FOXラジオ#４.webm\n",
            "\u001b[K[download] 100% of 66.76MiB in 00:03\n",
            "[ffmpeg] Destination: /content/audio/白上フブキ/【朝活】おはコン🌽FOXラジオ#４.opus\n",
            "Deleting original file /content/audio/白上フブキ/【朝活】おはコン🌽FOXラジオ#４.webm (pass -k to keep)\n",
            "https://www.youtube.com/watch?v=kCcZt5ZRh90&list=PL7LdRPp7xCkNY6kQ3xpadTBVcQH78a26S&index=2\n",
            "[youtube] kCcZt5ZRh90: Downloading webpage\n",
            "[download] Destination: /content/audio/白上フブキ/【朝活】おはコン🌽FOXラジオ#４.webm\n",
            "\u001b[K[download] 100% of 66.76MiB in 00:03\n",
            "[ffmpeg] Destination: /content/audio/白上フブキ/【朝活】おはコン🌽FOXラジオ#４.opus\n",
            "Deleting original file /content/audio/白上フブキ/【朝活】おはコン🌽FOXラジオ#４.webm (pass -k to keep)\n",
            "https://www.youtube.com/watch?v=kCcZt5ZRh90&list=PL7LdRPp7xCkNY6kQ3xpadTBVcQH78a26S&index=3\n",
            "[youtube] kCcZt5ZRh90: Downloading webpage\n",
            "[download] Destination: /content/audio/白上フブキ/【朝活】おはコン🌽FOXラジオ#４.webm\n",
            "\u001b[K[download] 100% of 66.76MiB in 00:02\n",
            "[ffmpeg] Destination: /content/audio/白上フブキ/【朝活】おはコン🌽FOXラジオ#４.opus\n",
            "Deleting original file /content/audio/白上フブキ/【朝活】おはコン🌽FOXラジオ#４.webm (pass -k to keep)\n",
            "https://www.youtube.com/watch?v=kCcZt5ZRh90&list=PL7LdRPp7xCkNY6kQ3xpadTBVcQH78a26S&index=4\n",
            "[youtube] kCcZt5ZRh90: Downloading webpage\n",
            "[download] Destination: /content/audio/白上フブキ/【朝活】おはコン🌽FOXラジオ#４.webm\n",
            "\u001b[K[download] 100% of 66.76MiB in 00:02\n",
            "[ffmpeg] Destination: /content/audio/白上フブキ/【朝活】おはコン🌽FOXラジオ#４.opus\n",
            "Deleting original file /content/audio/白上フブキ/【朝活】おはコン🌽FOXラジオ#４.webm (pass -k to keep)\n",
            "https://www.youtube.com/watch?v=zesLeqOFgwc&list=PL7LdRPp7xCkM3ZWVsViz2vHTx0YQPiN10\n",
            "[youtube] zesLeqOFgwc: Downloading webpage\n",
            "[download] Destination: /content/audio/白上フブキ/【テスト初放送】フブキCh。(^・ω・^§)ﾉ　白上フブキのみんなのお耳にちょコンっと放送！.webm\n",
            "\u001b[K[download] 100% of 43.71MiB in 00:02\n",
            "[ffmpeg] Destination: /content/audio/白上フブキ/【テスト初放送】フブキCh。(^・ω・^§)ﾉ　白上フブキのみんなのお耳にちょコンっと放送！.opus\n",
            "Deleting original file /content/audio/白上フブキ/【テスト初放送】フブキCh。(^・ω・^§)ﾉ　白上フブキのみんなのお耳にちょコンっと放送！.webm (pass -k to keep)\n",
            "https://www.youtube.com/watch?v=X53mU_mxCDQ&list=PL7LdRPp7xCkM3ZWVsViz2vHTx0YQPiN10&index=2\n",
            "[youtube] X53mU_mxCDQ: Downloading webpage\n",
            "[download] Destination: /content/audio/白上フブキ/【初放送】フブキCh。(^・ω・^§)ﾉ　白上フブキのみんなのお耳にちょコンっと放送！.webm\n",
            "\u001b[K[download] 100% of 23.07MiB in 00:00\n",
            "[ffmpeg] Destination: /content/audio/白上フブキ/【初放送】フブキCh。(^・ω・^§)ﾉ　白上フブキのみんなのお耳にちょコンっと放送！.opus\n",
            "Deleting original file /content/audio/白上フブキ/【初放送】フブキCh。(^・ω・^§)ﾉ　白上フブキのみんなのお耳にちょコンっと放送！.webm (pass -k to keep)\n",
            "https://www.youtube.com/watch?v=AM3kai20okE&list=PL7LdRPp7xCkM3ZWVsViz2vHTx0YQPiN10&index=4\n",
            "[youtube] AM3kai20okE: Downloading webpage\n",
            "[download] Destination: /content/audio/白上フブキ/【雑談】フブキCh。(^・ω・^§)ﾉ　白上フブキのみんなのお耳にちょコンっと放送！.webm\n",
            "\u001b[K[download] 100% of 149.17MiB in 00:07\n",
            "[ffmpeg] Destination: /content/audio/白上フブキ/【雑談】フブキCh。(^・ω・^§)ﾉ　白上フブキのみんなのお耳にちょコンっと放送！.opus\n",
            "Deleting original file /content/audio/白上フブキ/【雑談】フブキCh。(^・ω・^§)ﾉ　白上フブキのみんなのお耳にちょコンっと放送！.webm (pass -k to keep)\n",
            "https://www.youtube.com/watch?v=QKk8zERcVQA&list=PL7LdRPp7xCkM3ZWVsViz2vHTx0YQPiN10&index=8\n",
            "[youtube] QKk8zERcVQA: Downloading webpage\n",
            "[download] Destination: /content/audio/白上フブキ/お耳にちょコンっとフブキch~お疲れ様の雑談~.webm\n",
            "\u001b[K[download] 100% of 43.68MiB in 00:02\n",
            "[ffmpeg] Destination: /content/audio/白上フブキ/お耳にちょコンっとフブキch~お疲れ様の雑談~.opus\n",
            "Deleting original file /content/audio/白上フブキ/お耳にちょコンっとフブキch~お疲れ様の雑談~.webm (pass -k to keep)\n",
            "https://www.youtube.com/watch?v=fhUntgjHBI0&list=PL7LdRPp7xCkM3ZWVsViz2vHTx0YQPiN10&index=9\n",
            "[youtube] fhUntgjHBI0: Downloading webpage\n",
            "[download] Destination: /content/audio/白上フブキ/【フブキCh。】フブキ画伯展_お絵かき配信.webm\n",
            "\u001b[K[download] 100% of 86.60MiB in 00:06\n",
            "[ffmpeg] Destination: /content/audio/白上フブキ/【フブキCh。】フブキ画伯展_お絵かき配信.opus\n",
            "Deleting original file /content/audio/白上フブキ/【フブキCh。】フブキ画伯展_お絵かき配信.webm (pass -k to keep)\n",
            "https://www.youtube.com/watch?v=FN8fEjr3qyE&list=PL7LdRPp7xCkM3ZWVsViz2vHTx0YQPiN10&index=10\n",
            "[youtube] FN8fEjr3qyE: Downloading webpage\n",
            "[download] Destination: /content/audio/白上フブキ/【フブキCh。】白上フブキの意味怖怪談話【ホラー話】.webm\n",
            "\u001b[K[download] 100% of 66.83MiB in 00:03\n",
            "[ffmpeg] Destination: /content/audio/白上フブキ/【フブキCh。】白上フブキの意味怖怪談話【ホラー話】.opus\n",
            "Deleting original file /content/audio/白上フブキ/【フブキCh。】白上フブキの意味怖怪談話【ホラー話】.webm (pass -k to keep)\n",
            "https://www.youtube.com/watch?v=g6VhJZjRoeo&list=PL7LdRPp7xCkM3ZWVsViz2vHTx0YQPiN10&index=11\n",
            "[youtube] g6VhJZjRoeo: Downloading webpage\n",
            "[download] Destination: /content/audio/白上フブキ/【フブキCh。】第二回 フブキ画伯展_お絵かき配信.webm\n",
            "\u001b[K[download] 100% of 140.42MiB in 00:07\n",
            "[ffmpeg] Destination: /content/audio/白上フブキ/【フブキCh。】第二回 フブキ画伯展_お絵かき配信.opus\n",
            "Deleting original file /content/audio/白上フブキ/【フブキCh。】第二回 フブキ画伯展_お絵かき配信.webm (pass -k to keep)\n",
            "https://www.youtube.com/watch?v=sYOOazZvjII&list=PL7LdRPp7xCkM3ZWVsViz2vHTx0YQPiN10&index=14\n",
            "[youtube] sYOOazZvjII: Downloading webpage\n",
            "[download] Destination: /content/audio/白上フブキ/はじめまして!バーチャル美男子イケボイス白髪狐です(^・ω・^§)ﾉ.webm\n",
            "\u001b[K[download] 100% of 52.32MiB in 00:04\n",
            "[ffmpeg] Destination: /content/audio/白上フブキ/はじめまして!バーチャル美男子イケボイス白髪狐です(^・ω・^§)ﾉ.opus\n",
            "Deleting original file /content/audio/白上フブキ/はじめまして!バーチャル美男子イケボイス白髪狐です(^・ω・^§)ﾉ.webm (pass -k to keep)\n",
            "https://www.youtube.com/watch?v=6zi8EXGziyE&list=PL7LdRPp7xCkM3ZWVsViz2vHTx0YQPiN10&index=15\n",
            "[youtube] 6zi8EXGziyE: Downloading webpage\n",
            "[download] Destination: /content/audio/白上フブキ/30000人記念ぷちお祝い雑談【フブキch】.webm\n",
            "\u001b[K[download] 100% of 47.92MiB in 00:02\n",
            "[ffmpeg] Destination: /content/audio/白上フブキ/30000人記念ぷちお祝い雑談【フブキch】.opus\n",
            "Deleting original file /content/audio/白上フブキ/30000人記念ぷちお祝い雑談【フブキch】.webm (pass -k to keep)\n",
            "https://www.youtube.com/watch?v=sd8H1bI242Y&list=PL7LdRPp7xCkM3ZWVsViz2vHTx0YQPiN10&index=16\n",
            "[youtube] sd8H1bI242Y: Downloading webpage\n",
            "[download] Destination: /content/audio/白上フブキ/ゲリラ雑談しております_MMDを添えて。【フブキch】.webm\n",
            "\u001b[K[download] 100% of 46.47MiB in 00:02\n",
            "[ffmpeg] Destination: /content/audio/白上フブキ/ゲリラ雑談しております_MMDを添えて。【フブキch】.opus\n",
            "Deleting original file /content/audio/白上フブキ/ゲリラ雑談しております_MMDを添えて。【フブキch】.webm (pass -k to keep)\n",
            "https://www.youtube.com/watch?v=BifXxeC8yhY&list=PL7LdRPp7xCkM3ZWVsViz2vHTx0YQPiN10&index=17\n",
            "[youtube] BifXxeC8yhY: Downloading webpage\n",
            "[download] Destination: /content/audio/白上フブキ/30分弱でわかる!まさに賢コン「学力狐」.webm\n",
            "\u001b[K[download] 100% of 21.22MiB in 00:02\n",
            "[ffmpeg] Destination: /content/audio/白上フブキ/30分弱でわかる!まさに賢コン「学力狐」.opus\n",
            "Deleting original file /content/audio/白上フブキ/30分弱でわかる!まさに賢コン「学力狐」.webm (pass -k to keep)\n",
            "https://www.youtube.com/watch?v=yMe5sZbZXMg&list=PL7LdRPp7xCkM3ZWVsViz2vHTx0YQPiN10&index=18\n",
            "[youtube] yMe5sZbZXMg: Downloading webpage\n",
            "[download] Destination: /content/audio/白上フブキ/【フブキCh。】第三回 フブキ画伯展_お絵かき配信.webm\n",
            "\u001b[K[download] 100% of 107.74MiB in 00:09\n",
            "[ffmpeg] Destination: /content/audio/白上フブキ/【フブキCh。】第三回 フブキ画伯展_お絵かき配信.opus\n",
            "Deleting original file /content/audio/白上フブキ/【フブキCh。】第三回 フブキ画伯展_お絵かき配信.webm (pass -k to keep)\n",
            "https://www.youtube.com/watch?v=pYNr0ph90dE&list=PLNvxSJodVoAvRlbsgq0uGQa0sVWjWLlAY&index=3\n",
            "[youtube] pYNr0ph90dE: Downloading webpage\n",
            "[download] Destination: /content/audio/天音かなた/【#PP天使】パワポ、今日は僕を裏切らないよね……？？？？【天音かなた_ホロライブ4期生】.webm\n",
            "\u001b[K[download] 100% of 48.86MiB in 00:04\n",
            "[ffmpeg] Destination: /content/audio/天音かなた/【#PP天使】パワポ、今日は僕を裏切らないよね……？？？？【天音かなた_ホロライブ4期生】.opus\n",
            "Deleting original file /content/audio/天音かなた/【#PP天使】パワポ、今日は僕を裏切らないよね……？？？？【天音かなた_ホロライブ4期生】.webm (pass -k to keep)\n",
            "https://www.youtube.com/watch?v=82KVLv7isfE&list=PLNvxSJodVoAvRlbsgq0uGQa0sVWjWLlAY&index=2\n",
            "[youtube] 82KVLv7isfE: Downloading webpage\n",
            "[download] Destination: /content/audio/天音かなた/【#PP天使】声優の卵ってマ？？？運営との確執どうなった？？？【天音かなた_ホロライブ4期生】.webm\n",
            "\u001b[K[download] 100% of 51.65MiB in 00:04\n",
            "[ffmpeg] Destination: /content/audio/天音かなた/【#PP天使】声優の卵ってマ？？？運営との確執どうなった？？？【天音かなた_ホロライブ4期生】.opus\n",
            "Deleting original file /content/audio/天音かなた/【#PP天使】声優の卵ってマ？？？運営との確執どうなった？？？【天音かなた_ホロライブ4期生】.webm (pass -k to keep)\n",
            "https://www.youtube.com/watch?v=oY_ZR9W6PjQ&list=PLNvxSJodVoAvRlbsgq0uGQa0sVWjWLlAY\n",
            "[youtube] oY_ZR9W6PjQ: Downloading webpage\n",
            "[download] Destination: /content/audio/天音かなた/【#天界学園放送部】2020年初放送！！４期生の話／お正月の話／ホロみくじの話【天音かなた_ホロライブ4期生】.webm\n",
            "\u001b[K[download] 100% of 56.66MiB in 00:05\n",
            "[ffmpeg] Destination: /content/audio/天音かなた/【#天界学園放送部】2020年初放送！！４期生の話／お正月の話／ホロみくじの話【天音かなた_ホロライブ4期生】.opus\n",
            "Deleting original file /content/audio/天音かなた/【#天界学園放送部】2020年初放送！！４期生の話／お正月の話／ホロみくじの話【天音かなた_ホロライブ4期生】.webm (pass -k to keep)\n",
            "https://www.youtube.com/watch?v=L-uzj1CDVKs&list=PLNvxSJodVoAvRlbsgq0uGQa0sVWjWLlAY&index=5\n",
            "[youtube] L-uzj1CDVKs: Downloading webpage\n",
            "[download] Destination: /content/audio/天音かなた/【#PP雑談】キャラ迷走をマネに相談？？同期不仲説出すぎ？？？【天音かなた_ホロライブ4期生】.webm\n",
            "\u001b[K[download] 100% of 47.58MiB in 00:02\n",
            "[ffmpeg] Destination: /content/audio/天音かなた/【#PP雑談】キャラ迷走をマネに相談？？同期不仲説出すぎ？？？【天音かなた_ホロライブ4期生】.opus\n",
            "Deleting original file /content/audio/天音かなた/【#PP雑談】キャラ迷走をマネに相談？？同期不仲説出すぎ？？？【天音かなた_ホロライブ4期生】.webm (pass -k to keep)\n",
            "https://www.youtube.com/watch?v=6RanGnYbigY&list=PLNvxSJodVoAvRlbsgq0uGQa0sVWjWLlAY&index=6\n",
            "[youtube] 6RanGnYbigY: Downloading webpage\n",
            "[download] Destination: /content/audio/天音かなた/【#PP雑談】会話再現！！先輩や同期とオフでご飯したぞおおおおお！！！！！【天音かなた_ホロライブ4期生】.webm\n",
            "\u001b[K[download] 100% of 66.94MiB in 00:04\n",
            "[ffmpeg] Destination: /content/audio/天音かなた/【#PP雑談】会話再現！！先輩や同期とオフでご飯したぞおおおおお！！！！！【天音かなた_ホロライブ4期生】.opus\n",
            "Deleting original file /content/audio/天音かなた/【#PP雑談】会話再現！！先輩や同期とオフでご飯したぞおおおおお！！！！！【天音かなた_ホロライブ4期生】.webm (pass -k to keep)\n",
            "https://www.youtube.com/watch?v=AuljXtZZQAc&list=PLNvxSJodVoAvRlbsgq0uGQa0sVWjWLlAY&index=7\n",
            "[youtube] AuljXtZZQAc: Downloading webpage\n",
            "[download] Destination: /content/audio/天音かなた/【#PP雑談】おしゃべりフェスに参加してきたぞおおおおおお！！！！！！！【天音かなた_ホロライブ4期生】.webm\n",
            "\u001b[K[download] 100% of 87.44MiB in 00:07\n",
            "[ffmpeg] Destination: /content/audio/天音かなた/【#PP雑談】おしゃべりフェスに参加してきたぞおおおおおお！！！！！！！【天音かなた_ホロライブ4期生】.opus\n",
            "Deleting original file /content/audio/天音かなた/【#PP雑談】おしゃべりフェスに参加してきたぞおおおおおお！！！！！！！【天音かなた_ホロライブ4期生】.webm (pass -k to keep)\n",
            "https://www.youtube.com/watch?v=nsToRO9Hos0&list=PLNvxSJodVoAvRlbsgq0uGQa0sVWjWLlAY&index=8\n",
            "[youtube] nsToRO9Hos0: Downloading webpage\n",
            "[download] Destination: /content/audio/天音かなた/【#天音かなた育成計画】後方腕組プロデューサーニキ集まれえええええええ！！！！！！【天音かなた_ホロライブ4期生】.webm\n",
            "\u001b[K[download] 100% of 91.93MiB in 00:07\n",
            "[ffmpeg] Destination: /content/audio/天音かなた/【#天音かなた育成計画】後方腕組プロデューサーニキ集まれえええええええ！！！！！！【天音かなた_ホロライブ4期生】.opus\n",
            "Deleting original file /content/audio/天音かなた/【#天音かなた育成計画】後方腕組プロデューサーニキ集まれえええええええ！！！！！！【天音かなた_ホロライブ4期生】.webm (pass -k to keep)\n",
            "https://www.youtube.com/watch?v=AikjinGbTXk&list=PLNvxSJodVoAvRlbsgq0uGQa0sVWjWLlAY&index=9\n",
            "[youtube] AikjinGbTXk: Downloading webpage\n",
            "[download] Destination: /content/audio/天音かなた/【#PP雑談】4期生たこ焼きパーティの待ち合わせやスーパーに行ったときの話など【天音かなた_ホロライブ4期生】.webm\n",
            "\u001b[K[download] 100% of 85.27MiB in 00:03\n",
            "[ffmpeg] Destination: /content/audio/天音かなた/【#PP雑談】4期生たこ焼きパーティの待ち合わせやスーパーに行ったときの話など【天音かなた_ホロライブ4期生】.opus\n",
            "Deleting original file /content/audio/天音かなた/【#PP雑談】4期生たこ焼きパーティの待ち合わせやスーパーに行ったときの話など【天音かなた_ホロライブ4期生】.webm (pass -k to keep)\n",
            "https://www.youtube.com/watch?v=pdle4MVF0SQ&list=PLNvxSJodVoAvRlbsgq0uGQa0sVWjWLlAY&index=10\n",
            "[youtube] pdle4MVF0SQ: Downloading webpage\n",
            "[download] Destination: /content/audio/天音かなた/【雑談】久々の雑談枠★まったりお話しませんかっ？【天音かなた_ホロライブ4期生】.webm\n",
            "\u001b[K[download] 100% of 80.68MiB in 00:03\n",
            "[ffmpeg] Destination: /content/audio/天音かなた/【雑談】久々の雑談枠★まったりお話しませんかっ？【天音かなた_ホロライブ4期生】.opus\n",
            "Deleting original file /content/audio/天音かなた/【雑談】久々の雑談枠★まったりお話しませんかっ？【天音かなた_ホロライブ4期生】.webm (pass -k to keep)\n",
            "https://www.youtube.com/watch?v=IkvZHb9VlRo&list=PLNvxSJodVoAvRlbsgq0uGQa0sVWjWLlAY&index=11\n",
            "[youtube] IkvZHb9VlRo: Downloading webpage\n",
            "[download] Destination: /content/audio/天音かなた/【#PP雑談】PowerPointでデビューからの4ヵ月を振り返り・・・【天音かなた_ホロライブ4期生】.webm\n",
            "\u001b[K[download] 100% of 94.00MiB in 00:03\n",
            "[ffmpeg] Destination: /content/audio/天音かなた/【#PP雑談】PowerPointでデビューからの4ヵ月を振り返り・・・【天音かなた_ホロライブ4期生】.opus\n",
            "Deleting original file /content/audio/天音かなた/【#PP雑談】PowerPointでデビューからの4ヵ月を振り返り・・・【天音かなた_ホロライブ4期生】.webm (pass -k to keep)\n",
            "https://www.youtube.com/watch?v=cZtVnNAYgbA&list=PLNvxSJodVoAuMY_Pa_Rz2IfiKj8DVcoro\n",
            "[youtube] cZtVnNAYgbA: Downloading webpage\n",
            "[download] Destination: /content/audio/天音かなた/【コラボ解禁記念】新人が凸待ちをしたらあったけぇホロライブの恩恵を受けることができる【天音かなた_ホロライブ4期生】.webm\n",
            "\u001b[K[download] 100% of 60.08MiB in 00:02\n",
            "[ffmpeg] Destination: /content/audio/天音かなた/【コラボ解禁記念】新人が凸待ちをしたらあったけぇホロライブの恩恵を受けることができる【天音かなた_ホロライブ4期生】.opus\n",
            "Deleting original file /content/audio/天音かなた/【コラボ解禁記念】新人が凸待ちをしたらあったけぇホロライブの恩恵を受けることができる【天音かなた_ホロライブ4期生】.webm (pass -k to keep)\n",
            "https://www.youtube.com/watch?v=QuazZxr_AKE&list=PLNvxSJodVoAuMY_Pa_Rz2IfiKj8DVcoro&index=8\n",
            "[youtube] QuazZxr_AKE: Downloading webpage\n",
            "[download] Destination: /content/audio/天音かなた/【とるモ】2万円でいくつ取れる！？ネットクレーンゲームに挑戦した結果……【天音かなた_ホロライブ4期生】.webm\n",
            "\u001b[K[download] 100% of 145.82MiB in 00:05\n",
            "[ffmpeg] Destination: /content/audio/天音かなた/【とるモ】2万円でいくつ取れる！？ネットクレーンゲームに挑戦した結果……【天音かなた_ホロライブ4期生】.opus\n",
            "Deleting original file /content/audio/天音かなた/【とるモ】2万円でいくつ取れる！？ネットクレーンゲームに挑戦した結果……【天音かなた_ホロライブ4期生】.webm (pass -k to keep)\n",
            "https://www.youtube.com/watch?v=sRvFBAYi_yE\n",
            "[youtube] sRvFBAYi_yE: Downloading webpage\n",
            "[download] Destination: /content/audio/天音かなた/【★復活★】みんなああああただいまあああああああ！！！！！！【天音かなた_ホロライブ4期生】.webm\n",
            "\u001b[K[download] 100% of 96.38MiB in 00:04\n",
            "[ffmpeg] Destination: /content/audio/天音かなた/【★復活★】みんなああああただいまあああああああ！！！！！！【天音かなた_ホロライブ4期生】.opus\n",
            "Deleting original file /content/audio/天音かなた/【★復活★】みんなああああただいまあああああああ！！！！！！【天音かなた_ホロライブ4期生】.webm (pass -k to keep)\n",
            "https://www.youtube.com/watch?v=daf7hLdRD1M\n",
            "[youtube] daf7hLdRD1M: Downloading webpage\n",
            "[download] Destination: /content/audio/天音かなた/【#PP雑談】今月マリンちゃんと何回会うんだ！？リングフィットでゴリラを晒す天使！！！【天音かなた_ホロライブ4期生】.webm\n",
            "\u001b[K[download] 100% of 74.78MiB in 00:03\n",
            "[ffmpeg] Destination: /content/audio/天音かなた/【#PP雑談】今月マリンちゃんと何回会うんだ！？リングフィットでゴリラを晒す天使！！！【天音かなた_ホロライブ4期生】.opus\n",
            "Deleting original file /content/audio/天音かなた/【#PP雑談】今月マリンちゃんと何回会うんだ！？リングフィットでゴリラを晒す天使！！！【天音かなた_ホロライブ4期生】.webm (pass -k to keep)\n",
            "https://www.youtube.com/watch?v=k4CzeLE8MZM\n",
            "[youtube] k4CzeLE8MZM: Downloading webpage\n",
            "[download] Destination: /content/audio/天音かなた/【雑談】喉元気になりました！！ARKと頂いたプレゼントのお話するよおおおお！！！！【天音かなた_ホロライブ4期生】.webm\n",
            "\u001b[K[download] 100% of 81.11MiB in 00:05\n",
            "[ffmpeg] Destination: /content/audio/天音かなた/【雑談】喉元気になりました！！ARKと頂いたプレゼントのお話するよおおおお！！！！【天音かなた_ホロライブ4期生】.opus\n",
            "Deleting original file /content/audio/天音かなた/【雑談】喉元気になりました！！ARKと頂いたプレゼントのお話するよおおおお！！！！【天音かなた_ホロライブ4期生】.webm (pass -k to keep)\n",
            "https://www.youtube.com/watch?v=vrPnuTCuOv0\n",
            "[youtube] vrPnuTCuOv0: Downloading webpage\n",
            "[download] Destination: /content/audio/天音かなた/【#天音かなた収益化】チャンネル登録10万人＆収益化記念枠！！！！！！！！【天音かなた_ホロライブ4期生】.webm\n",
            "\u001b[K[download] 100% of 36.10MiB in 00:01\n",
            "[ffmpeg] Destination: /content/audio/天音かなた/【#天音かなた収益化】チャンネル登録10万人＆収益化記念枠！！！！！！！！【天音かなた_ホロライブ4期生】.opus\n",
            "Deleting original file /content/audio/天音かなた/【#天音かなた収益化】チャンネル登録10万人＆収益化記念枠！！！！！！！！【天音かなた_ホロライブ4期生】.webm (pass -k to keep)\n",
            "https://www.youtube.com/playlist?list=PL6sZ3uYmeG1vDQ-jvuaMA1hl3GvcHyMcp\n",
            "[youtube:playlist] PL6sZ3uYmeG1vDQ-jvuaMA1hl3GvcHyMcp: Downloading webpage\n",
            "[download] Downloading playlist: 雑談配信\n",
            "[youtube:playlist] playlist 雑談配信: Downloading 16 videos\n",
            "[download] Downloading video 1 of 16\n",
            "[youtube] hwgzlqar6a0: Downloading webpage\n",
            "[download] Destination: /content/audio/夏色まつり/JKが雑談するってよ【VTuber】.webm\n",
            "\u001b[K[download] 100% of 55.04MiB in 00:04\n",
            "[ffmpeg] Destination: /content/audio/夏色まつり/JKが雑談するってよ【VTuber】.opus\n",
            "Deleting original file /content/audio/夏色まつり/JKが雑談するってよ【VTuber】.webm (pass -k to keep)\n",
            "[download] Downloading video 2 of 16\n",
            "[youtube] jt7M4Gw5lFA: Downloading webpage\n",
            "[download] Destination: /content/audio/夏色まつり/【夏まつch】チア部JKとお話しませんか？.webm\n",
            "\u001b[K[download] 100% of 52.13MiB in 00:04\n",
            "[ffmpeg] Destination: /content/audio/夏色まつり/【夏まつch】チア部JKとお話しませんか？.opus\n",
            "Deleting original file /content/audio/夏色まつり/【夏まつch】チア部JKとお話しませんか？.webm (pass -k to keep)\n",
            "[download] Downloading video 3 of 16\n",
            "[youtube] dJ-8EGi5zCs: Downloading webpage\n",
            "[download] Destination: /content/audio/夏色まつり/Matsuri Channel 夏色まつり の初配信.webm\n",
            "\u001b[K[download] 100% of 38.53MiB in 00:01\n",
            "[ffmpeg] Destination: /content/audio/夏色まつり/Matsuri Channel 夏色まつり の初配信.opus\n",
            "Deleting original file /content/audio/夏色まつり/Matsuri Channel 夏色まつり の初配信.webm (pass -k to keep)\n",
            "[download] Downloading video 4 of 16\n",
            "[youtube] 0gZQhdRJRxA: Downloading webpage\n",
            "[download] Destination: /content/audio/夏色まつり/Matsuri Channel 夏色まつり のライブ.webm\n",
            "\u001b[K[download] 100% of 32.60MiB in 00:03\n",
            "[ffmpeg] Destination: /content/audio/夏色まつり/Matsuri Channel 夏色まつり のライブ.opus\n",
            "Deleting original file /content/audio/夏色まつり/Matsuri Channel 夏色まつり のライブ.webm (pass -k to keep)\n",
            "[download] Downloading video 5 of 16\n",
            "[youtube] FN-UKWO6Vy8: Downloading webpage\n",
            "[download] Destination: /content/audio/夏色まつり/夏色まつりの生放送【セリフ＆おうた】.webm\n",
            "\u001b[K[download] 100% of 57.05MiB in 00:04\n",
            "[ffmpeg] Destination: /content/audio/夏色まつり/夏色まつりの生放送【セリフ＆おうた】.opus\n",
            "Deleting original file /content/audio/夏色まつり/夏色まつりの生放送【セリフ＆おうた】.webm (pass -k to keep)\n",
            "[download] Downloading video 6 of 16\n",
            "[youtube] -UEv3l5avK8: Downloading webpage\n",
            "[download] Destination: /content/audio/夏色まつり/【夏まつch】マシュマロにお返事.webm\n",
            "\u001b[K[download] 100% of 56.77MiB in 00:04\n",
            "[ffmpeg] Destination: /content/audio/夏色まつり/【夏まつch】マシュマロにお返事.opus\n",
            "Deleting original file /content/audio/夏色まつり/【夏まつch】マシュマロにお返事.webm (pass -k to keep)\n",
            "[download] Downloading video 7 of 16\n",
            "[youtube] PFj1IfTF7fs: Downloading webpage\n",
            "[download] Destination: /content/audio/夏色まつり/ましゅまろげりら.webm\n",
            "\u001b[K[download] 100% of 43.02MiB in 00:08\n",
            "[ffmpeg] Destination: /content/audio/夏色まつり/ましゅまろげりら.opus\n",
            "Deleting original file /content/audio/夏色まつり/ましゅまろげりら.webm (pass -k to keep)\n",
            "[download] Downloading video 8 of 16\n",
            "[youtube] cbsl-um7xtw: Downloading webpage\n",
            "[download] Destination: /content/audio/夏色まつり/【乗っ取り！？】どもー黒色まつりでーす.webm\n",
            "\u001b[K[download] 100% of 63.22MiB in 00:12\n",
            "[ffmpeg] Destination: /content/audio/夏色まつり/【乗っ取り！？】どもー黒色まつりでーす.opus\n",
            "Deleting original file /content/audio/夏色まつり/【乗っ取り！？】どもー黒色まつりでーす.webm (pass -k to keep)\n",
            "[download] Downloading video 9 of 16\n",
            "[youtube] SZzPEhcLO3k: Downloading webpage\n",
            "[download] Destination: /content/audio/夏色まつり/【えらい！】１週間お疲れサマー！！　ましゅまろとかうたとか.webm\n",
            "\u001b[K[download] 100% of 43.80MiB in 00:08\n",
            "[ffmpeg] Destination: /content/audio/夏色まつり/【えらい！】１週間お疲れサマー！！　ましゅまろとかうたとか.opus\n",
            "Deleting original file /content/audio/夏色まつり/【えらい！】１週間お疲れサマー！！　ましゅまろとかうたとか.webm (pass -k to keep)\n",
            "[download] Downloading video 10 of 16\n",
            "[youtube] zzND-ecRRcY: Downloading webpage\n",
            "[download] Destination: /content/audio/夏色まつり/【夏まつch】らくがきげりら.webm\n",
            "\u001b[K[download] 100% of 74.15MiB in 00:06\n",
            "[ffmpeg] Destination: /content/audio/夏色まつり/【夏まつch】らくがきげりら.opus\n",
            "Deleting original file /content/audio/夏色まつり/【夏まつch】らくがきげりら.webm (pass -k to keep)\n",
            "[download] Downloading video 11 of 16\n",
            "[youtube] it0wW78AseM: Downloading webpage\n",
            "[download] Destination: /content/audio/夏色まつり/【夏まつch】雑談ってなんだろね.webm\n",
            "\u001b[K[download] 100% of 52.83MiB in 00:10\n",
            "[ffmpeg] Destination: /content/audio/夏色まつり/【夏まつch】雑談ってなんだろね.opus\n",
            "Deleting original file /content/audio/夏色まつり/【夏まつch】雑談ってなんだろね.webm (pass -k to keep)\n",
            "[download] Downloading video 12 of 16\n",
            "[youtube] W_ryUa8IJuw: Downloading webpage\n",
            "[download] Destination: /content/audio/夏色まつり/【VTuber】ねれない！！しゃべる！！！！！！！.webm\n",
            "\u001b[K[download] 100% of 72.78MiB in 00:10\n",
            "[ffmpeg] Destination: /content/audio/夏色まつり/【VTuber】ねれない！！しゃべる！！！！！！！.opus\n",
            "Deleting original file /content/audio/夏色まつり/【VTuber】ねれない！！しゃべる！！！！！！！.webm (pass -k to keep)\n",
            "[download] Downloading video 13 of 16\n",
            "[youtube] rCZDwDQCIpY: Downloading webpage\n",
            "[download] Destination: /content/audio/夏色まつり/【VTuber】よなかにJKとはなしませんか？.webm\n",
            "\u001b[K[download] 100% of 105.58MiB in 00:08\n",
            "[ffmpeg] Destination: /content/audio/夏色まつり/【VTuber】よなかにJKとはなしませんか？.opus\n",
            "Deleting original file /content/audio/夏色まつり/【VTuber】よなかにJKとはなしませんか？.webm (pass -k to keep)\n",
            "[download] Downloading video 14 of 16\n",
            "[youtube] ODOz0V5EVDs: Downloading webpage\n",
            "[download] Destination: /content/audio/夏色まつり/【雑談】チア部のJKが歌ったりお話したり！【歌枠】.webm\n",
            "\u001b[K[download] 100% of 56.80MiB in 00:09\n",
            "[ffmpeg] Destination: /content/audio/夏色まつり/【雑談】チア部のJKが歌ったりお話したり！【歌枠】.opus\n",
            "Deleting original file /content/audio/夏色まつり/【雑談】チア部のJKが歌ったりお話したり！【歌枠】.webm (pass -k to keep)\n",
            "[download] Downloading video 15 of 16\n",
            "[youtube] B3IvSRbgt7E: Downloading webpage\n",
            "[download] Destination: /content/audio/夏色まつり/【発表会】皆に出した宿題チェックするよ！【夏まつch】.webm\n",
            "\u001b[K[download] 100% of 53.27MiB in 00:23\n",
            "[ffmpeg] Destination: /content/audio/夏色まつり/【発表会】皆に出した宿題チェックするよ！【夏まつch】.opus\n",
            "Deleting original file /content/audio/夏色まつり/【発表会】皆に出した宿題チェックするよ！【夏まつch】.webm (pass -k to keep)\n",
            "[download] Downloading video 16 of 16\n",
            "[youtube] B36UmZMp7MA: Downloading webpage\n",
            "[download] Destination: /content/audio/夏色まつり/【雑談】げりらでおはなすの！！！！！！！.webm\n",
            "\u001b[K[download] 100% of 57.07MiB in 00:08\n",
            "[ffmpeg] Destination: /content/audio/夏色まつり/【雑談】げりらでおはなすの！！！！！！！.opus\n",
            "Deleting original file /content/audio/夏色まつり/【雑談】げりらでおはなすの！！！！！！！.webm (pass -k to keep)\n",
            "[download] Finished downloading playlist: 雑談配信\n",
            "\n",
            "Usage: youtube-dl [OPTIONS] URL [URL...]\n",
            "\n",
            "youtube-dl: error: You must provide at least one URL.\n",
            "Type youtube-dl --help to see a list of all options.\n"
          ],
          "name": "stdout"
        }
      ]
    },
    {
      "cell_type": "code",
      "metadata": {
        "id": "L7q3bfU3UYNf",
        "colab_type": "code",
        "colab": {}
      },
      "source": [
        "# !youtube-dl --extract-audio https://www.youtube.com/playlist?list=PLKo9UD3uKyyH4q5OA67W0G1q_6gxLEegq -o \"/content/audio/%(title)s.%(ext)s\""
      ],
      "execution_count": 0,
      "outputs": []
    },
    {
      "cell_type": "code",
      "metadata": {
        "id": "zG8Eh9IcXG39",
        "colab_type": "code",
        "outputId": "b48f05e9-6ccf-48d4-e969-72c099dd0eb2",
        "colab": {
          "base_uri": "https://localhost:8080/",
          "height": 1000
        }
      },
      "source": [
        "import pprint\n",
        "'rebuild dict according to the files in folder'\n",
        "rebuilt_dict = {}\n",
        "for single_key in name_dict:\n",
        "  rebuilt_dict[single_key] = files_in_target_folder(f'/content/audio/{single_key}/') \n",
        "# total_files = files_in_target_folder('/content/audio')\n",
        "pprint.pprint(rebuilt_dict)"
      ],
      "execution_count": 7,
      "outputs": [
        {
          "output_type": "stream",
          "text": [
            "{'夏色まつり': ['Matsuri Channel 夏色まつり の初配信.opus',\n",
            "           '【VTuber】ねれない！！しゃべる！！！！！！！.opus',\n",
            "           '【VTuber】よなかにJKとはなしませんか？.opus',\n",
            "           'JKが雑談するってよ【VTuber】.opus',\n",
            "           '【発表会】皆に出した宿題チェックするよ！【夏まつch】.opus',\n",
            "           '【夏まつch】マシュマロにお返事.opus',\n",
            "           '【雑談】チア部のJKが歌ったりお話したり！【歌枠】.opus',\n",
            "           '【夏まつch】チア部JKとお話しませんか？.opus',\n",
            "           '【乗っ取り！？】どもー黒色まつりでーす.opus',\n",
            "           '【夏まつch】雑談ってなんだろね.opus',\n",
            "           '【夏まつch】らくがきげりら.opus',\n",
            "           '【雑談】げりらでおはなすの！！！！！！！.opus',\n",
            "           'ましゅまろげりら.opus',\n",
            "           '夏色まつりの生放送【セリフ＆おうた】.opus',\n",
            "           '【えらい！】１週間お疲れサマー！！\\u3000ましゅまろとかうたとか.opus',\n",
            "           'Matsuri Channel 夏色まつり のライブ.opus'],\n",
            " '天音かなた': ['【#天音かなた収益化】チャンネル登録10万人＆収益化記念枠！！！！！！！！【天音かなた_ホロライブ4期生】.opus',\n",
            "           '【#PP雑談】会話再現！！先輩や同期とオフでご飯したぞおおおおお！！！！！【天音かなた_ホロライブ4期生】.opus',\n",
            "           '【#PP天使】パワポ、今日は僕を裏切らないよね……？？？？【天音かなた_ホロライブ4期生】.opus',\n",
            "           '【雑談】久々の雑談枠★まったりお話しませんかっ？【天音かなた_ホロライブ4期生】.opus',\n",
            "           '【#PP雑談】PowerPointでデビューからの4ヵ月を振り返り・・・【天音かなた_ホロライブ4期生】.opus',\n",
            "           '【★復活★】みんなああああただいまあああああああ！！！！！！【天音かなた_ホロライブ4期生】.opus',\n",
            "           '【#PP雑談】キャラ迷走をマネに相談？？同期不仲説出すぎ？？？【天音かなた_ホロライブ4期生】.opus',\n",
            "           '【#PP雑談】4期生たこ焼きパーティの待ち合わせやスーパーに行ったときの話など【天音かなた_ホロライブ4期生】.opus',\n",
            "           '【とるモ】2万円でいくつ取れる！？ネットクレーンゲームに挑戦した結果……【天音かなた_ホロライブ4期生】.opus',\n",
            "           '【コラボ解禁記念】新人が凸待ちをしたらあったけぇホロライブの恩恵を受けることができる【天音かなた_ホロライブ4期生】.opus',\n",
            "           '【#PP天使】声優の卵ってマ？？？運営との確執どうなった？？？【天音かなた_ホロライブ4期生】.opus',\n",
            "           '【#PP雑談】今月マリンちゃんと何回会うんだ！？リングフィットでゴリラを晒す天使！！！【天音かなた_ホロライブ4期生】.opus',\n",
            "           '【#PP雑談】おしゃべりフェスに参加してきたぞおおおおおお！！！！！！！【天音かなた_ホロライブ4期生】.opus',\n",
            "           '【雑談】喉元気になりました！！ARKと頂いたプレゼントのお話するよおおおお！！！！【天音かなた_ホロライブ4期生】.opus',\n",
            "           '【#天音かなた育成計画】後方腕組プロデューサーニキ集まれえええええええ！！！！！！【天音かなた_ホロライブ4期生】.opus',\n",
            "           '【#天界学園放送部】2020年初放送！！４期生の話／お正月の話／ホロみくじの話【天音かなた_ホロライブ4期生】.opus'],\n",
            " '宝鐘マリン': ['【雑談】ちょっとひさしぶり💘お話ししましょう✨【ホロライブ_宝鐘マリン】.opus',\n",
            "           '【雑談】深夜にゆったりキミたちと語る💘【ホロライブ_宝鐘マリン】.opus',\n",
            "           '【晩酌雑談】💘キミたちの人生の悩みを解決する女上司。💘【ホロライブ_宝鐘マリン】.opus',\n",
            "           '【⚠重大発表⚠】皆様に大切なお話があります。【ホロライブ_宝鐘マリン】.opus',\n",
            "           '【クリスマス企画告知+雑談】三期生リスナー参加企画決定💘そして病み上がりの雑談☠【ホロライブ_宝鐘マリン】.opus',\n",
            "           '【ましゅまろ雑談】キミたち～❣おしゃべりの時間よ～☺👊💘【ホロライブ_宝鐘マリン】.opus',\n",
            "           '【胃腸炎雑談を添えて】💘ついに！？”アレ”のお知らせ・・・！！！！💘【ホロライブ_宝鐘マリン】.opus',\n",
            "           '【歌ってみた】20000人の一味のキミたちへ感謝を込めて【ホロライブ_宝鐘マリン】.opus',\n",
            "           '【晩酌雑談】３Dお披露目・しゃべフェス感想裏話など💘【ホロライブ_宝鐘マリン】.opus',\n",
            "           '【収益化記念】船長、酔ってもいいですか？【ホロライブ_宝鐘マリン】.opus',\n",
            "           '【晩酌雑談】💘よっぱっぱ女上司VSキミたちのましゅまろ💘【ホロライブ_宝鐘マリン】.opus',\n",
            "           '【定例会議】トークのリハビリ👊👊【ホロライブ_宝鐘マリン】.opus',\n",
            "           '【#ホロライブ正月衣装】はじめての新衣装💘船長の女の部分をごらんください👼【ホロライブ_宝鐘マリン】.opus',\n",
            "           '【雑談】正気を取り戻せ、マリン船長【ホロライブ_宝鐘マリン】.opus',\n",
            "           '【雑談】ココ会長お泊りエピ🐉洞窟感想など👀_ましゅまろ💘【ホロライブ_宝鐘マリン】.opus',\n",
            "           '【引っ越し前ラスト雑談】【ホロライブ_宝鐘マリン】.opus',\n",
            "           '【雑談】年末💘キミたちとおはなし😘【ホロライブ_宝鐘マリン】.opus'],\n",
            " '白上フブキ': ['30000人記念ぷちお祝い雑談【フブキch】.opus',\n",
            "           'はじめまして!バーチャル美男子イケボイス白髪狐です(^・ω・^§)ﾉ.opus',\n",
            "           '【フブキCh。】第三回 フブキ画伯展_お絵かき配信.opus',\n",
            "           'ゲリラ雑談しております_MMDを添えて。【フブキch】.opus',\n",
            "           '【朝活】おはコン🌽FOXラジオ#４.opus',\n",
            "           '【初放送】フブキCh。(^・ω・^§)ﾉ\\u3000白上フブキのみんなのお耳にちょコンっと放送！.opus',\n",
            "           '【テスト初放送】フブキCh。(^・ω・^§)ﾉ\\u3000白上フブキのみんなのお耳にちょコンっと放送！.opus',\n",
            "           '30分弱でわかる!まさに賢コン「学力狐」.opus',\n",
            "           'お耳にちょコンっとフブキch~お疲れ様の雑談~.opus',\n",
            "           '【雑談】フブキCh。(^・ω・^§)ﾉ\\u3000白上フブキのみんなのお耳にちょコンっと放送！.opus',\n",
            "           '【フブキCh。】フブキ画伯展_お絵かき配信.opus',\n",
            "           '【フブキCh。】第二回 フブキ画伯展_お絵かき配信.opus',\n",
            "           '【フブキCh。】白上フブキの意味怖怪談話【ホラー話】.opus']}\n"
          ],
          "name": "stdout"
        }
      ]
    },
    {
      "cell_type": "markdown",
      "metadata": {
        "id": "C59-Y3vLT0Sh",
        "colab_type": "text"
      },
      "source": [
        "# Spleeter"
      ]
    },
    {
      "cell_type": "code",
      "metadata": {
        "id": "_UtCdDPqOqT-",
        "colab_type": "code",
        "outputId": "19022426-a684-446e-8e12-6f8963bea08d",
        "colab": {
          "base_uri": "https://localhost:8080/",
          "height": 1000
        }
      },
      "source": [
        "!pip install spleeter-gpu\n",
        "!pip install pyvad"
      ],
      "execution_count": 8,
      "outputs": [
        {
          "output_type": "stream",
          "text": [
            "Collecting spleeter-gpu\n",
            "  Downloading https://files.pythonhosted.org/packages/f1/a0/8d6f3745e32140cc6d635246b60f2f66bd0f8293899b621366cfee403da4/spleeter-gpu-1.5.1.tar.gz\n",
            "Collecting ffmpeg-python\n",
            "  Downloading https://files.pythonhosted.org/packages/d7/0c/56be52741f75bad4dc6555991fabd2e07b432d333da82c11ad701123888a/ffmpeg_python-0.2.0-py3-none-any.whl\n",
            "Collecting norbert==0.2.1\n",
            "  Downloading https://files.pythonhosted.org/packages/22/85/1e4f09c84d28b5541a4a8eece320902c4d2fa264dfe51f779548396f0fea/norbert-0.2.1-py2.py3-none-any.whl\n",
            "Collecting pandas==0.25.1\n",
            "\u001b[?25l  Downloading https://files.pythonhosted.org/packages/73/9b/52e228545d14f14bb2a1622e225f38463c8726645165e1cb7dde95bfe6d4/pandas-0.25.1-cp36-cp36m-manylinux1_x86_64.whl (10.5MB)\n",
            "\u001b[K     |████████████████████████████████| 10.5MB 12.0MB/s \n",
            "\u001b[?25hRequirement already satisfied: requests in /usr/local/lib/python3.6/dist-packages (from spleeter-gpu) (2.23.0)\n",
            "Requirement already satisfied: setuptools>=41.0.0 in /usr/local/lib/python3.6/dist-packages (from spleeter-gpu) (46.1.3)\n",
            "Collecting librosa==0.7.2\n",
            "\u001b[?25l  Downloading https://files.pythonhosted.org/packages/77/b5/1817862d64a7c231afd15419d8418ae1f000742cac275e85c74b219cbccb/librosa-0.7.2.tar.gz (1.6MB)\n",
            "\u001b[K     |████████████████████████████████| 1.6MB 44.8MB/s \n",
            "\u001b[?25hCollecting tensorflow-gpu==1.15.2\n",
            "\u001b[?25l  Downloading https://files.pythonhosted.org/packages/32/ca/58e40e5077fa2a92004f398d705a288e958434f123938f4ce75ffe25b64b/tensorflow_gpu-1.15.2-cp36-cp36m-manylinux2010_x86_64.whl (411.0MB)\n",
            "\u001b[K     |████████████████████████████████| 411.0MB 36kB/s \n",
            "\u001b[?25hCollecting importlib_resources\n",
            "  Downloading https://files.pythonhosted.org/packages/7f/2d/88f166bcaadc09d9fdbf1c336ad118e01b7fe1155e15675e125be2ff1899/importlib_resources-1.5.0-py2.py3-none-any.whl\n",
            "Requirement already satisfied: future in /usr/local/lib/python3.6/dist-packages (from ffmpeg-python->spleeter-gpu) (0.16.0)\n",
            "Requirement already satisfied: scipy in /usr/local/lib/python3.6/dist-packages (from norbert==0.2.1->spleeter-gpu) (1.4.1)\n",
            "Requirement already satisfied: python-dateutil>=2.6.1 in /usr/local/lib/python3.6/dist-packages (from pandas==0.25.1->spleeter-gpu) (2.8.1)\n",
            "Requirement already satisfied: numpy>=1.13.3 in /usr/local/lib/python3.6/dist-packages (from pandas==0.25.1->spleeter-gpu) (1.18.3)\n",
            "Requirement already satisfied: pytz>=2017.2 in /usr/local/lib/python3.6/dist-packages (from pandas==0.25.1->spleeter-gpu) (2018.9)\n",
            "Requirement already satisfied: idna<3,>=2.5 in /usr/local/lib/python3.6/dist-packages (from requests->spleeter-gpu) (2.9)\n",
            "Requirement already satisfied: chardet<4,>=3.0.2 in /usr/local/lib/python3.6/dist-packages (from requests->spleeter-gpu) (3.0.4)\n",
            "Requirement already satisfied: urllib3!=1.25.0,!=1.25.1,<1.26,>=1.21.1 in /usr/local/lib/python3.6/dist-packages (from requests->spleeter-gpu) (1.24.3)\n",
            "Requirement already satisfied: certifi>=2017.4.17 in /usr/local/lib/python3.6/dist-packages (from requests->spleeter-gpu) (2020.4.5.1)\n",
            "Requirement already satisfied: audioread>=2.0.0 in /usr/local/lib/python3.6/dist-packages (from librosa==0.7.2->spleeter-gpu) (2.1.8)\n",
            "Requirement already satisfied: scikit-learn!=0.19.0,>=0.14.0 in /usr/local/lib/python3.6/dist-packages (from librosa==0.7.2->spleeter-gpu) (0.22.2.post1)\n",
            "Requirement already satisfied: joblib>=0.12 in /usr/local/lib/python3.6/dist-packages (from librosa==0.7.2->spleeter-gpu) (0.14.1)\n",
            "Requirement already satisfied: decorator>=3.0.0 in /usr/local/lib/python3.6/dist-packages (from librosa==0.7.2->spleeter-gpu) (4.4.2)\n",
            "Requirement already satisfied: six>=1.3 in /usr/local/lib/python3.6/dist-packages (from librosa==0.7.2->spleeter-gpu) (1.12.0)\n",
            "Requirement already satisfied: resampy>=0.2.2 in /usr/local/lib/python3.6/dist-packages (from librosa==0.7.2->spleeter-gpu) (0.2.2)\n",
            "Requirement already satisfied: numba>=0.43.0 in /usr/local/lib/python3.6/dist-packages (from librosa==0.7.2->spleeter-gpu) (0.48.0)\n",
            "Collecting soundfile>=0.9.0\n",
            "  Downloading https://files.pythonhosted.org/packages/eb/f2/3cbbbf3b96fb9fa91582c438b574cff3f45b29c772f94c400e2c99ef5db9/SoundFile-0.10.3.post1-py2.py3-none-any.whl\n",
            "Requirement already satisfied: astor>=0.6.0 in /usr/local/lib/python3.6/dist-packages (from tensorflow-gpu==1.15.2->spleeter-gpu) (0.8.1)\n",
            "Requirement already satisfied: protobuf>=3.6.1 in /usr/local/lib/python3.6/dist-packages (from tensorflow-gpu==1.15.2->spleeter-gpu) (3.10.0)\n",
            "Collecting tensorflow-estimator==1.15.1\n",
            "\u001b[?25l  Downloading https://files.pythonhosted.org/packages/de/62/2ee9cd74c9fa2fa450877847ba560b260f5d0fb70ee0595203082dafcc9d/tensorflow_estimator-1.15.1-py2.py3-none-any.whl (503kB)\n",
            "\u001b[K     |████████████████████████████████| 512kB 48.5MB/s \n",
            "\u001b[?25hRequirement already satisfied: opt-einsum>=2.3.2 in /usr/local/lib/python3.6/dist-packages (from tensorflow-gpu==1.15.2->spleeter-gpu) (3.2.1)\n",
            "Requirement already satisfied: grpcio>=1.8.6 in /usr/local/lib/python3.6/dist-packages (from tensorflow-gpu==1.15.2->spleeter-gpu) (1.28.1)\n",
            "Requirement already satisfied: termcolor>=1.1.0 in /usr/local/lib/python3.6/dist-packages (from tensorflow-gpu==1.15.2->spleeter-gpu) (1.1.0)\n",
            "Requirement already satisfied: wheel>=0.26; python_version >= \"3\" in /usr/local/lib/python3.6/dist-packages (from tensorflow-gpu==1.15.2->spleeter-gpu) (0.34.2)\n",
            "Collecting tensorboard<1.16.0,>=1.15.0\n",
            "\u001b[?25l  Downloading https://files.pythonhosted.org/packages/1e/e9/d3d747a97f7188f48aa5eda486907f3b345cd409f0a0850468ba867db246/tensorboard-1.15.0-py3-none-any.whl (3.8MB)\n",
            "\u001b[K     |████████████████████████████████| 3.8MB 48.7MB/s \n",
            "\u001b[?25hRequirement already satisfied: wrapt>=1.11.1 in /usr/local/lib/python3.6/dist-packages (from tensorflow-gpu==1.15.2->spleeter-gpu) (1.12.1)\n",
            "Requirement already satisfied: absl-py>=0.7.0 in /usr/local/lib/python3.6/dist-packages (from tensorflow-gpu==1.15.2->spleeter-gpu) (0.9.0)\n",
            "Requirement already satisfied: google-pasta>=0.1.6 in /usr/local/lib/python3.6/dist-packages (from tensorflow-gpu==1.15.2->spleeter-gpu) (0.2.0)\n",
            "Requirement already satisfied: keras-applications>=1.0.8 in /usr/local/lib/python3.6/dist-packages (from tensorflow-gpu==1.15.2->spleeter-gpu) (1.0.8)\n",
            "Requirement already satisfied: keras-preprocessing>=1.0.5 in /usr/local/lib/python3.6/dist-packages (from tensorflow-gpu==1.15.2->spleeter-gpu) (1.1.0)\n",
            "Collecting gast==0.2.2\n",
            "  Downloading https://files.pythonhosted.org/packages/4e/35/11749bf99b2d4e3cceb4d55ca22590b0d7c2c62b9de38ac4a4a7f4687421/gast-0.2.2.tar.gz\n",
            "Requirement already satisfied: importlib-metadata; python_version < \"3.8\" in /usr/local/lib/python3.6/dist-packages (from importlib_resources->spleeter-gpu) (1.6.0)\n",
            "Requirement already satisfied: zipp>=0.4; python_version < \"3.8\" in /usr/local/lib/python3.6/dist-packages (from importlib_resources->spleeter-gpu) (3.1.0)\n",
            "Requirement already satisfied: llvmlite<0.32.0,>=0.31.0dev0 in /usr/local/lib/python3.6/dist-packages (from numba>=0.43.0->librosa==0.7.2->spleeter-gpu) (0.31.0)\n",
            "Requirement already satisfied: cffi>=1.0 in /usr/local/lib/python3.6/dist-packages (from soundfile>=0.9.0->librosa==0.7.2->spleeter-gpu) (1.14.0)\n",
            "Requirement already satisfied: markdown>=2.6.8 in /usr/local/lib/python3.6/dist-packages (from tensorboard<1.16.0,>=1.15.0->tensorflow-gpu==1.15.2->spleeter-gpu) (3.2.1)\n",
            "Requirement already satisfied: werkzeug>=0.11.15 in /usr/local/lib/python3.6/dist-packages (from tensorboard<1.16.0,>=1.15.0->tensorflow-gpu==1.15.2->spleeter-gpu) (1.0.1)\n",
            "Requirement already satisfied: h5py in /usr/local/lib/python3.6/dist-packages (from keras-applications>=1.0.8->tensorflow-gpu==1.15.2->spleeter-gpu) (2.10.0)\n",
            "Requirement already satisfied: pycparser in /usr/local/lib/python3.6/dist-packages (from cffi>=1.0->soundfile>=0.9.0->librosa==0.7.2->spleeter-gpu) (2.20)\n",
            "Building wheels for collected packages: spleeter-gpu, librosa, gast\n",
            "  Building wheel for spleeter-gpu (setup.py) ... \u001b[?25l\u001b[?25hdone\n",
            "  Created wheel for spleeter-gpu: filename=spleeter_gpu-1.5.1-cp36-none-any.whl size=48567 sha256=c5d61c878007a7c5cedf8f8214235ac885f91e79ac0afd5b88cde4cd291f8e5c\n",
            "  Stored in directory: /root/.cache/pip/wheels/ef/66/d5/dfea65024ea25aff144bfc2118af76e6cff58bf7ffc1bfd122\n",
            "  Building wheel for librosa (setup.py) ... \u001b[?25l\u001b[?25hdone\n",
            "  Created wheel for librosa: filename=librosa-0.7.2-cp36-none-any.whl size=1612885 sha256=044a23b67ce6c9b9841edef0c3394a5c88ab65ff5b046ecef978905d892d43db\n",
            "  Stored in directory: /root/.cache/pip/wheels/4c/6e/d7/bb93911540d2d1e44d690a1561871e5b6af82b69e80938abef\n",
            "  Building wheel for gast (setup.py) ... \u001b[?25l\u001b[?25hdone\n",
            "  Created wheel for gast: filename=gast-0.2.2-cp36-none-any.whl size=7540 sha256=4147cb29acc194832ce6908876ac530d9a28ea6da381eb0e9dca6583f7e81423\n",
            "  Stored in directory: /root/.cache/pip/wheels/5c/2e/7e/a1d4d4fcebe6c381f378ce7743a3ced3699feb89bcfbdadadd\n",
            "Successfully built spleeter-gpu librosa gast\n",
            "\u001b[31mERROR: tensorflow 2.2.0rc4 has requirement gast==0.3.3, but you'll have gast 0.2.2 which is incompatible.\u001b[0m\n",
            "\u001b[31mERROR: tensorflow 2.2.0rc4 has requirement tensorboard<2.3.0,>=2.2.0, but you'll have tensorboard 1.15.0 which is incompatible.\u001b[0m\n",
            "\u001b[31mERROR: tensorflow 2.2.0rc4 has requirement tensorflow-estimator<2.3.0,>=2.2.0, but you'll have tensorflow-estimator 1.15.1 which is incompatible.\u001b[0m\n",
            "\u001b[31mERROR: tensorflow-probability 0.10.0rc0 has requirement gast>=0.3.2, but you'll have gast 0.2.2 which is incompatible.\u001b[0m\n",
            "\u001b[31mERROR: google-colab 1.0.0 has requirement pandas~=1.0.0; python_version >= \"3.0\", but you'll have pandas 0.25.1 which is incompatible.\u001b[0m\n",
            "Installing collected packages: ffmpeg-python, norbert, pandas, soundfile, librosa, tensorflow-estimator, tensorboard, gast, tensorflow-gpu, importlib-resources, spleeter-gpu\n",
            "  Found existing installation: pandas 1.0.3\n",
            "    Uninstalling pandas-1.0.3:\n",
            "      Successfully uninstalled pandas-1.0.3\n",
            "  Found existing installation: librosa 0.6.3\n",
            "    Uninstalling librosa-0.6.3:\n",
            "      Successfully uninstalled librosa-0.6.3\n",
            "  Found existing installation: tensorflow-estimator 2.2.0\n",
            "    Uninstalling tensorflow-estimator-2.2.0:\n",
            "      Successfully uninstalled tensorflow-estimator-2.2.0\n",
            "  Found existing installation: tensorboard 2.2.1\n",
            "    Uninstalling tensorboard-2.2.1:\n",
            "      Successfully uninstalled tensorboard-2.2.1\n",
            "  Found existing installation: gast 0.3.3\n",
            "    Uninstalling gast-0.3.3:\n",
            "      Successfully uninstalled gast-0.3.3\n",
            "Successfully installed ffmpeg-python-0.2.0 gast-0.2.2 importlib-resources-1.5.0 librosa-0.7.2 norbert-0.2.1 pandas-0.25.1 soundfile-0.10.3.post1 spleeter-gpu-1.5.1 tensorboard-1.15.0 tensorflow-estimator-1.15.1 tensorflow-gpu-1.15.2\n"
          ],
          "name": "stdout"
        },
        {
          "output_type": "display_data",
          "data": {
            "application/vnd.colab-display-data+json": {
              "pip_warning": {
                "packages": [
                  "pandas"
                ]
              }
            }
          },
          "metadata": {
            "tags": []
          }
        },
        {
          "output_type": "stream",
          "text": [
            "Collecting pyvad\n",
            "  Downloading https://files.pythonhosted.org/packages/d1/7f/05ded121063a2680533c76d8406c3b0a29d82fbb87d943546f384886dd33/pyvad-0.1.1.tar.gz\n",
            "Requirement already satisfied: numpy in /usr/local/lib/python3.6/dist-packages (from pyvad) (1.18.3)\n",
            "Requirement already satisfied: librosa in /usr/local/lib/python3.6/dist-packages (from pyvad) (0.7.2)\n",
            "Collecting webrtcvad\n",
            "\u001b[?25l  Downloading https://files.pythonhosted.org/packages/89/34/e2de2d97f3288512b9ea56f92e7452f8207eb5a0096500badf9dfd48f5e6/webrtcvad-2.0.10.tar.gz (66kB)\n",
            "\u001b[K     |████████████████████████████████| 71kB 3.3MB/s \n",
            "\u001b[?25hRequirement already satisfied: scipy>=1.0.0 in /usr/local/lib/python3.6/dist-packages (from librosa->pyvad) (1.4.1)\n",
            "Requirement already satisfied: numba>=0.43.0 in /usr/local/lib/python3.6/dist-packages (from librosa->pyvad) (0.48.0)\n",
            "Requirement already satisfied: audioread>=2.0.0 in /usr/local/lib/python3.6/dist-packages (from librosa->pyvad) (2.1.8)\n",
            "Requirement already satisfied: decorator>=3.0.0 in /usr/local/lib/python3.6/dist-packages (from librosa->pyvad) (4.4.2)\n",
            "Requirement already satisfied: soundfile>=0.9.0 in /usr/local/lib/python3.6/dist-packages (from librosa->pyvad) (0.10.3.post1)\n",
            "Requirement already satisfied: scikit-learn!=0.19.0,>=0.14.0 in /usr/local/lib/python3.6/dist-packages (from librosa->pyvad) (0.22.2.post1)\n",
            "Requirement already satisfied: resampy>=0.2.2 in /usr/local/lib/python3.6/dist-packages (from librosa->pyvad) (0.2.2)\n",
            "Requirement already satisfied: joblib>=0.12 in /usr/local/lib/python3.6/dist-packages (from librosa->pyvad) (0.14.1)\n",
            "Requirement already satisfied: six>=1.3 in /usr/local/lib/python3.6/dist-packages (from librosa->pyvad) (1.12.0)\n",
            "Requirement already satisfied: llvmlite<0.32.0,>=0.31.0dev0 in /usr/local/lib/python3.6/dist-packages (from numba>=0.43.0->librosa->pyvad) (0.31.0)\n",
            "Requirement already satisfied: setuptools in /usr/local/lib/python3.6/dist-packages (from numba>=0.43.0->librosa->pyvad) (46.1.3)\n",
            "Requirement already satisfied: cffi>=1.0 in /usr/local/lib/python3.6/dist-packages (from soundfile>=0.9.0->librosa->pyvad) (1.14.0)\n",
            "Requirement already satisfied: pycparser in /usr/local/lib/python3.6/dist-packages (from cffi>=1.0->soundfile>=0.9.0->librosa->pyvad) (2.20)\n",
            "Building wheels for collected packages: pyvad, webrtcvad\n",
            "  Building wheel for pyvad (setup.py) ... \u001b[?25l\u001b[?25hdone\n",
            "  Created wheel for pyvad: filename=pyvad-0.1.1-cp36-none-any.whl size=4052 sha256=c990497168ef72513252f39e556e33d822aef18c85d9d4cb8f63c5788d696c02\n",
            "  Stored in directory: /root/.cache/pip/wheels/44/3e/d7/bbefde2fdb322c269b2b2f1779b3ea927e7248e09af260d52d\n",
            "  Building wheel for webrtcvad (setup.py) ... \u001b[?25l\u001b[?25hdone\n",
            "  Created wheel for webrtcvad: filename=webrtcvad-2.0.10-cp36-cp36m-linux_x86_64.whl size=71343 sha256=682ea4c1bca000189a03b03bf97a96a846180a80b9b9454d281231d90d83a33f\n",
            "  Stored in directory: /root/.cache/pip/wheels/44/2a/18/bd1aec41cac7c3051fe95d92a6ed446122ea31dc713c432fa1\n",
            "Successfully built pyvad webrtcvad\n",
            "Installing collected packages: webrtcvad, pyvad\n",
            "Successfully installed pyvad-0.1.1 webrtcvad-2.0.10\n"
          ],
          "name": "stdout"
        }
      ]
    },
    {
      "cell_type": "markdown",
      "metadata": {
        "id": "X7jbbwicRsoW",
        "colab_type": "text"
      },
      "source": [
        "## import packages"
      ]
    },
    {
      "cell_type": "code",
      "metadata": {
        "id": "QCBAA3ZyO0tW",
        "colab_type": "code",
        "colab": {}
      },
      "source": [
        "from spleeter.separator import Separator\n",
        "from IPython.display import Audio\n",
        "import IPython\n",
        "import numpy as np\n",
        "# Use audio loader explicitly for loading audio waveform:\n",
        "from spleeter.audio.adapter import get_default_audio_adapter\n",
        "import pdb\n",
        "from tqdm import tqdm\n",
        "import matplotlib.pyplot as plt\n",
        "import numpy as np\n",
        "from pyvad import vad, split\n",
        "import soundfile as sf"
      ],
      "execution_count": 0,
      "outputs": []
    },
    {
      "cell_type": "markdown",
      "metadata": {
        "id": "OEWxMN0ZRyEJ",
        "colab_type": "text"
      },
      "source": [
        "## Set parameters"
      ]
    },
    {
      "cell_type": "code",
      "metadata": {
        "id": "taAHw8p0PeiG",
        "colab_type": "code",
        "colab": {}
      },
      "source": [
        "sample_rate = 48000\n",
        "window_size = 48000 * 1\n",
        "padding_length = 48000\n",
        "\n",
        "'five minutes'\n",
        "stride_size = window_size*60*5\n",
        "\n",
        "post_process_clip_threshold = 0.007\n",
        "std_window_size = 960"
      ],
      "execution_count": 0,
      "outputs": []
    },
    {
      "cell_type": "markdown",
      "metadata": {
        "id": "oEbizR0UZuny",
        "colab_type": "text"
      },
      "source": [
        "## initialize spleeter"
      ]
    },
    {
      "cell_type": "code",
      "metadata": {
        "id": "5LcXM7ytZu5t",
        "colab_type": "code",
        "colab": {}
      },
      "source": [
        "separator = Separator('spleeter:2stems')\n",
        "audio_loader = get_default_audio_adapter()"
      ],
      "execution_count": 0,
      "outputs": []
    },
    {
      "cell_type": "markdown",
      "metadata": {
        "id": "bu9Gt2c5gMEk",
        "colab_type": "text"
      },
      "source": [
        "## Split BGM and vocals"
      ]
    },
    {
      "cell_type": "code",
      "metadata": {
        "id": "MD0hv_3dVwr7",
        "colab_type": "code",
        "colab": {}
      },
      "source": [
        "def generate_vocal_res(start_point, end_point, waveform):\n",
        "  vocal_res = []\n",
        "  # accompan_res = []\n",
        "  for split_waveform_index in tqdm(range(start_point, end_point, window_size)):\n",
        "    # Perform the separation :\n",
        "    clipped_waveform = waveform[split_waveform_index:min(split_waveform_index + window_size, len(waveform))]\n",
        "    'add padding zeros to each waveform'\n",
        "    zero_padded_waveform = np.zeros((clipped_waveform.shape[0] + padding_length*2, clipped_waveform.shape[1]))\n",
        "    zero_padded_waveform[padding_length:-padding_length] = clipped_waveform\n",
        "    'we may also use the extra data'\n",
        "    if split_waveform_index-padding_length >= 0 and split_waveform_index + window_size + padding_length < len(waveform):\n",
        "      zero_padded_waveform[:padding_length] = waveform[split_waveform_index-padding_length:split_waveform_index]\n",
        "      zero_padded_waveform[-padding_length:] = waveform[split_waveform_index + window_size: split_waveform_index + window_size + padding_length]\n",
        "\n",
        "    'sperate using spleeter'\n",
        "    prediction = separator.separate(zero_padded_waveform)\n",
        "    'clip padded part, throw them away'\n",
        "    prediction['vocals'] = prediction['vocals'][padding_length: -padding_length]\n",
        "    # prediction['accompaniment'] = prediction['accompaniment'][padding_length: -padding_length]\n",
        "    'merge results together'\n",
        "    vocal_res.extend(prediction['vocals'])\n",
        "    # accompan_res.extend(prediction['accompaniment'])\n",
        "  return vocal_res"
      ],
      "execution_count": 0,
      "outputs": []
    },
    {
      "cell_type": "code",
      "metadata": {
        "id": "GadePLqE1oAN",
        "colab_type": "code",
        "colab": {}
      },
      "source": [
        "'Turn to Mono'\n",
        "def save_vocal_res(vocal_res, output_audio_path, split_index):\n",
        "  vocal_res = stereoToMono(np.asarray(vocal_res))\n",
        "  vocal_res = np.clip(vocal_res, -1, 1)\n",
        "  mode_2 = vad(vocal_res, fs=sample_rate, fs_vad=sample_rate, hop_length=10, vad_mode=1)\n",
        "  _dh, dur_info = interval_to_info(mode_2)\n",
        "\n",
        "  for info_index, single_info in tqdm(enumerate(dur_info)):\n",
        "    if single_info[1] - single_info[0] > sample_rate:\n",
        "      splitted_voice = vocal_res[single_info[0]:single_info[1]]\n",
        "      target_file_name = f\"{output_audio_path}/S{split_index}_I{info_index}.flac\"\n",
        "      sf.write(target_file_name, np.asarray(splitted_voice), sample_rate)\n",
        "      \n",
        "      # std_array = rolling_window(splitted_voice, std_window_size)\n",
        "      # end_pass, end_clip_index = end_clip(std_array, threshold = post_process_clip_threshold)\n",
        "      # front_pass, front_clip_index = front_clip(std_array, threshold = post_process_clip_threshold)\n",
        "      # if end_pass and front_pass:\n",
        "      #   assert front_clip_index < len(splitted_voice) - end_clip_index, \"STD array incorrect\"\n",
        "      #   clipped_splitted_voice = splitted_voice[front_clip_index:~end_clip_index]\n",
        "        \n",
        "      #   if len(clipped_splitted_voice) > sample_rate:\n",
        "      #     'build file name'\n",
        "      #     target_file_name = f\"{output_audio_path}/S{split_index}_I{info_index}.flac\"\n",
        "      #     sf.write(target_file_name, np.asarray(clipped_splitted_voice), sample_rate)\n",
        "          # plt.plot(clipped_splitted_voice, color = 'orange', label='clipped_splitted_voice')\n",
        "          # plt.show()\n",
        "          # IPython.display.display(IPython.display.Audio(np.asarray(clipped_splitted_voice).T, rate=48000))\n",
        "          # pdb.set_trace()"
      ],
      "execution_count": 0,
      "outputs": []
    },
    {
      "cell_type": "code",
      "metadata": {
        "id": "ShVrDe08WZf7",
        "colab_type": "code",
        "colab": {}
      },
      "source": [
        "def process_whole_seq_data(waveform, output_audio_path):\n",
        "  five_minutes_numbers = int(len(waveform)/(stride_size))\n",
        "  for i in range(1, five_minutes_numbers):\n",
        "    start_point = i * stride_size\n",
        "    end_point = (i + 1) * stride_size # Process 10 seconds data in total\n",
        "    vocal_res = generate_vocal_res(start_point, end_point, waveform)\n",
        "    save_vocal_res(vocal_res, output_audio_path, split_index = i)"
      ],
      "execution_count": 0,
      "outputs": []
    },
    {
      "cell_type": "code",
      "metadata": {
        "id": "Hl3BptQ0iXQa",
        "colab_type": "code",
        "outputId": "6f4487de-aeb1-4cb4-e6fa-5e4a649c1cba",
        "colab": {
          "base_uri": "https://localhost:8080/",
          "height": 124
        }
      },
      "source": [
        "from google.colab import drive\n",
        "drive.mount('/content/gdrive')"
      ],
      "execution_count": 15,
      "outputs": [
        {
          "output_type": "stream",
          "text": [
            "Go to this URL in a browser: https://accounts.google.com/o/oauth2/auth?client_id=947318989803-6bn6qk8qdgf4n4g3pfee6491hc0brc4i.apps.googleusercontent.com&redirect_uri=urn%3aietf%3awg%3aoauth%3a2.0%3aoob&response_type=code&scope=email%20https%3a%2f%2fwww.googleapis.com%2fauth%2fdocs.test%20https%3a%2f%2fwww.googleapis.com%2fauth%2fdrive%20https%3a%2f%2fwww.googleapis.com%2fauth%2fdrive.photos.readonly%20https%3a%2f%2fwww.googleapis.com%2fauth%2fpeopleapi.readonly\n",
            "\n",
            "Enter your authorization code:\n",
            "··········\n",
            "Mounted at /content/gdrive\n"
          ],
          "name": "stdout"
        }
      ]
    },
    {
      "cell_type": "code",
      "metadata": {
        "id": "PQV-hAY3_IOU",
        "colab_type": "code",
        "colab": {
          "base_uri": "https://localhost:8080/",
          "height": 1000
        },
        "outputId": "83a50647-0f9a-44b1-de3f-242b7bdc2b01"
      },
      "source": [
        "vtb_audio = \"gdrive/My Drive/VAST/\"\n",
        "!rm -rf vtb_audio/\n",
        "for vtb_name in rebuilt_dict:\n",
        "  create_folders(f\"{vtb_audio}/{vtb_name}\")\n",
        "  file_list = rebuilt_dict[vtb_name]\n",
        "  for name in file_list:\n",
        "    output_audio_path = f\"{vtb_audio}/{vtb_name}/{name}/\"\n",
        "    create_folders(output_audio_path)\n",
        "    input_audio_path = f'audio/{vtb_name}/{name}'\n",
        "    'load file'\n",
        "    waveform, _ = audio_loader.load(input_audio_path, sample_rate=sample_rate)\n",
        "    'process target file'\n",
        "    process_whole_seq_data(waveform, output_audio_path)"
      ],
      "execution_count": 0,
      "outputs": [
        {
          "output_type": "stream",
          "text": [
            "\r  0%|          | 0/300 [00:00<?, ?it/s]INFO:spleeter:Downloading model archive https://github.com/deezer/spleeter/releases/download/v1.4.0/2stems.tar.gz\n",
            "INFO:spleeter:Validating archive checksum\n",
            "INFO:spleeter:Extracting downloaded 2stems archive\n",
            "INFO:spleeter:2stems model file(s) extracted\n"
          ],
          "name": "stderr"
        },
        {
          "output_type": "stream",
          "text": [
            "INFO:tensorflow:Using config: {'_model_dir': 'pretrained_models/2stems', '_tf_random_seed': None, '_save_summary_steps': 100, '_save_checkpoints_steps': None, '_save_checkpoints_secs': 600, '_session_config': gpu_options {\n",
            "  per_process_gpu_memory_fraction: 0.7\n",
            "}\n",
            ", '_keep_checkpoint_max': 5, '_keep_checkpoint_every_n_hours': 10000, '_log_step_count_steps': 100, '_train_distribute': None, '_device_fn': None, '_protocol': None, '_eval_distribute': None, '_experimental_distribute': None, '_experimental_max_worker_delay_secs': None, '_session_creation_timeout_secs': 7200, '_service': None, '_cluster_spec': <tensorflow.python.training.server_lib.ClusterSpec object at 0x7f5a91414748>, '_task_type': 'worker', '_task_id': 0, '_global_id_in_cluster': 0, '_master': '', '_evaluation_master': '', '_is_chief': True, '_num_ps_replicas': 0, '_num_worker_replicas': 1}\n",
            "INFO:tensorflow:Calling model_fn.\n",
            "INFO:tensorflow:Apply unet for vocals_spectrogram\n",
            "WARNING:tensorflow:From /usr/local/lib/python3.6/dist-packages/tensorflow_core/python/ops/resource_variable_ops.py:1630: calling BaseResourceVariable.__init__ (from tensorflow.python.ops.resource_variable_ops) with constraint is deprecated and will be removed in a future version.\n",
            "Instructions for updating:\n",
            "If using Keras pass *_constraint arguments to layers.\n",
            "INFO:tensorflow:Apply unet for accompaniment_spectrogram\n",
            "INFO:tensorflow:Done calling model_fn.\n",
            "WARNING:tensorflow:From /usr/local/lib/python3.6/dist-packages/tensorflow_core/python/saved_model/signature_def_utils_impl.py:201: build_tensor_info (from tensorflow.python.saved_model.utils_impl) is deprecated and will be removed in a future version.\n",
            "Instructions for updating:\n",
            "This function will only be available through the v1 compatibility library as tf.compat.v1.saved_model.utils.build_tensor_info or tf.compat.v1.saved_model.build_tensor_info.\n",
            "INFO:tensorflow:Signatures INCLUDED in export for Classify: None\n",
            "INFO:tensorflow:Signatures INCLUDED in export for Regress: None\n",
            "INFO:tensorflow:Signatures INCLUDED in export for Predict: ['serving_default']\n",
            "INFO:tensorflow:Signatures INCLUDED in export for Train: None\n",
            "INFO:tensorflow:Signatures INCLUDED in export for Eval: None\n",
            "INFO:tensorflow:Restoring parameters from pretrained_models/2stems/model\n",
            "INFO:tensorflow:Assets added to graph.\n",
            "INFO:tensorflow:No assets to write.\n",
            "INFO:tensorflow:SavedModel written to: /tmp/serving/temp-b'1588749817'/saved_model.pb\n",
            "WARNING:tensorflow:From /usr/local/lib/python3.6/dist-packages/tensorflow_core/contrib/predictor/saved_model_predictor.py:153: load (from tensorflow.python.saved_model.loader_impl) is deprecated and will be removed in a future version.\n",
            "Instructions for updating:\n",
            "This function will only be available through the v1 compatibility library as tf.compat.v1.saved_model.loader.load or tf.compat.v1.saved_model.load. There will be a new function for importing SavedModels in Tensorflow 2.0.\n",
            "INFO:tensorflow:Restoring parameters from /tmp/serving/1588749817/variables/variables\n"
          ],
          "name": "stdout"
        },
        {
          "output_type": "stream",
          "text": [
            "100%|██████████| 300/300 [00:24<00:00, 12.07it/s]\n",
            "95it [00:01, 66.01it/s]\n",
            "100%|██████████| 300/300 [00:07<00:00, 38.33it/s]\n",
            "90it [00:01, 63.86it/s]\n",
            "100%|██████████| 300/300 [00:07<00:00, 40.13it/s]\n",
            "108it [00:01, 85.36it/s]\n",
            "100%|██████████| 300/300 [00:07<00:00, 38.43it/s]\n",
            "126it [00:01, 81.69it/s]\n",
            "100%|██████████| 300/300 [00:07<00:00, 40.13it/s]\n",
            "122it [00:01, 89.74it/s]\n",
            "100%|██████████| 300/300 [00:07<00:00, 39.99it/s]\n",
            "116it [00:01, 76.89it/s]\n",
            "100%|██████████| 300/300 [00:07<00:00, 40.20it/s]\n",
            "101it [00:01, 76.67it/s]\n",
            "100%|██████████| 300/300 [00:07<00:00, 39.81it/s]\n",
            "111it [00:01, 70.05it/s]\n",
            "100%|██████████| 300/300 [00:07<00:00, 40.19it/s]\n",
            "115it [00:01, 74.77it/s]\n",
            "100%|██████████| 300/300 [00:07<00:00, 40.30it/s]\n",
            "125it [00:01, 79.61it/s]\n",
            "100%|██████████| 300/300 [00:07<00:00, 39.66it/s]\n",
            "118it [00:01, 73.96it/s]\n",
            "100%|██████████| 300/300 [00:07<00:00, 39.98it/s]\n",
            "85it [00:01, 56.98it/s]\n",
            "100%|██████████| 300/300 [00:07<00:00, 40.03it/s]\n",
            "74it [00:01, 51.04it/s]\n",
            "100%|██████████| 300/300 [00:07<00:00, 40.08it/s]\n",
            "107it [00:01, 71.00it/s]\n",
            "100%|██████████| 300/300 [00:07<00:00, 39.99it/s]\n",
            "111it [00:01, 77.73it/s]\n",
            "100%|██████████| 300/300 [00:07<00:00, 39.56it/s]\n",
            "102it [00:01, 69.15it/s]\n",
            "100%|██████████| 300/300 [00:07<00:00, 40.03it/s]\n",
            "111it [00:01, 82.34it/s]\n",
            "100%|██████████| 300/300 [00:07<00:00, 39.70it/s]\n",
            "128it [00:01, 82.30it/s]\n",
            "100%|██████████| 300/300 [00:07<00:00, 38.87it/s]\n",
            "121it [00:01, 65.61it/s]\n",
            "100%|██████████| 300/300 [00:07<00:00, 40.15it/s]\n",
            "98it [00:01, 74.76it/s]\n",
            "100%|██████████| 300/300 [00:07<00:00, 39.99it/s]\n",
            "121it [00:01, 77.42it/s]\n",
            "100%|██████████| 300/300 [00:07<00:00, 40.10it/s]\n",
            "143it [00:01, 91.45it/s]\n",
            "100%|██████████| 300/300 [00:07<00:00, 40.58it/s]\n",
            "118it [00:01, 88.56it/s]\n",
            "100%|██████████| 300/300 [00:07<00:00, 40.03it/s]"
          ],
          "name": "stderr"
        }
      ]
    },
    {
      "cell_type": "code",
      "metadata": {
        "id": "0u0nTdBjR72G",
        "colab_type": "code",
        "colab": {}
      },
      "source": [
        "# !zip -r /content/vtb_audio.zip /content/vtb_audio"
      ],
      "execution_count": 0,
      "outputs": []
    },
    {
      "cell_type": "code",
      "metadata": {
        "id": "XCkNkpbvhj1V",
        "colab_type": "code",
        "colab": {}
      },
      "source": [
        "# from google.colab import files\n",
        "# files.download(\"/content/vtb_audio.zip\")"
      ],
      "execution_count": 0,
      "outputs": []
    }
  ]
}